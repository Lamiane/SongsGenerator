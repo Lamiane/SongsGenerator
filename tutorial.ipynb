{
 "cells": [
  {
   "cell_type": "markdown",
   "metadata": {},
   "source": [
    "# Tutorial"
   ]
  },
  {
   "cell_type": "code",
   "execution_count": 9,
   "metadata": {},
   "outputs": [
    {
     "name": "stdout",
     "output_type": "stream",
     "text": [
      "Automatic calling is: Smart\n"
     ]
    }
   ],
   "source": [
    "%autocall 1\n",
    "filename = 'dataset.json'\n",
    "import datasets, utils, models"
   ]
  },
  {
   "cell_type": "markdown",
   "metadata": {
    "collapsed": true
   },
   "source": [
    "## Creating the dataset"
   ]
  },
  {
   "cell_type": "code",
   "execution_count": 10,
   "metadata": {},
   "outputs": [
    {
     "name": "stdout",
     "output_type": "stream",
     "text": [
      "2017-12-12 18:39:59.167145 enej\n",
      "2017-12-12 18:40:28.028763 lzy\n",
      "2017-12-12 18:41:11.590900 happysad\n",
      "2017-12-12 18:41:48.589272 kayah\n",
      "u'\\xc5\\xbbe wci\\xc4\\x85\\xc5\\xbc szumisz tylko pustk\\xc4\\x85\\r'\n",
      "u'bo nie ludzie s\\xc5\\x82owa, ale s\\xc5\\x82owa ludzi nios\\xc4\\x85\\r'\n",
      "2017-12-12 18:42:32.609348 czerwone_gitary\n",
      "2017-12-12 18:43:52.307801 pidzama_porno\n",
      "u'kt\\xc3\\xb3re szybko odje\\xc5\\xbcd\\xc5\\xbcaj\\xc4\\x85\\r'\n",
      "u'Jedn\\xc4\\x85 spocon\\xc4\\x85 noc\\xc4\\x85\\r'\n",
      "2017-12-12 18:44:32.115908 krzysztof_krawczyk\n",
      "u'Co nam do dzisiaj brzmi\\xc4\\x85\\r'\n",
      "u'Cuda, cuda og\\xc5\\x82aszaj\\xc4\\x85\\r'\n",
      "u'nie by\\xc5\\x82o, nigdy nie, nie by\\xc5\\x82o tak.\\xc2\\xa0\\r'\n",
      "2017-12-12 18:45:34.097849 stare_dobre_malze_stwo\n",
      "u'nad Krak\\xc3\\xb3w i wie\\xc5\\xbc\\xc4\\x99 Mariack\\xc4\\x85\\r'\n",
      "u'\\xc5\\xbbe ich \\xc5\\x9blady prosto do nieba prowadz\\xc4\\x85 \\r'\n",
      "u'zn\\xc3\\xb3w zej\\xc5\\x9b\\xc4\\x87 na nasz\\xc4\\x85 ziemi\\xc4\\x99 \\xc5\\x9bwi\\xc4\\x99t\\xc4\\x85\\r'\n",
      "u'Anio\\xc5\\x82y na poddaszu p\\xc5\\x82acz\\xc4\\x85\\r'\n",
      "u'grzesznic\\xc4\\x85 czy \\xc5\\x9bwi\\xc4\\x99t\\xc4\\x85\\r'\n",
      "2017-12-12 18:46:44.529681 zabili_mi_zolwia\n",
      "2017-12-12 18:47:10.124868 elektryczne_gitary\n",
      "2017-12-12 18:48:03.753594 monika_brodka\n",
      "2017-12-12 18:48:25.727071 hey\n",
      "u'Z pi\\xc4\\x85tku na sobot\\xc4\\x99 noc\\xc4\\x85\\r'\n",
      "2017-12-12 18:49:20.285863 gaba_kulka\n",
      "u'zabior\\xc4\\x99 was ze sob\\xc4\\x85\\r'\n",
      "2017-12-12 18:49:36.700165 coma\n",
      "u'[4x]Woda le\\xc5\\xbcy pod powierzchni\\xc4\\x85, powierzchni\\xc4\\x85, pod powierzchni\\xc4\\x85\\r'\n",
      "2017-12-12 18:50:23.736938 ryszard_rynkowski\n",
      "2017-12-12 18:50:53.912866 natalia_kukulska\n",
      "u'A lale ta\\xc5\\x84czy\\xc4\\x87 chc\\xc4\\x85\\r'\n",
      "u'Ja b\\xc4\\x99d\\xc4\\x99 tob\\xc4\\x85 ty mn\\xc4\\x85\\r'\n",
      "u'by ka\\xc5\\xbcdy z nas powiedzie\\xc4\\x87 m\\xc3\\xb3g\\xc5\\x82, \\xc5\\xbce z kumk\\xc4\\x85 by\\xc5\\x82 i gumk\\xc4\\x85\\r'\n"
     ]
    }
   ],
   "source": [
    "# download song lyrics\n",
    "dataset_orig = datasets.download_lyrics(['enej', 'lzy', 'happysad', 'kayah', 'czerwone_gitary',\n",
    "                            'pidzama_porno', 'krzysztof_krawczyk', 'stare_dobre_malze_stwo',\n",
    "                            'zabili_mi_zolwia', 'elektryczne_gitary', 'monika_brodka',\n",
    "                            'hey', 'gaba_kulka', 'coma', 'ryszard_rynkowski', 'natalia_kukulska'])\n",
    "\n",
    "# save as json for later use\n",
    "with open(filename, 'w') as f:\n",
    "    json.dump(dataset_orig, f)"
   ]
  },
  {
   "cell_type": "markdown",
   "metadata": {},
   "source": [
    "## Building a model and generating songs"
   ]
  },
  {
   "cell_type": "code",
   "execution_count": 14,
   "metadata": {},
   "outputs": [
    {
     "name": "stdout",
     "output_type": "stream",
     "text": [
      "How likely it is that the model will change the song:\n",
      "0.0792057624009\n",
      "\n",
      "\n",
      "\tGeneration method 1:\n",
      "u ciebie jest ? \n",
      " pewnie na twój przyjazd nie doczekam się. \n",
      " znów nadejdzie zima , śnieg przysypie mnie , \n",
      " mogę nie istnieć , \n",
      " wciąż rozmyślam czemu wyszło tak . - x2 \n",
      " \n",
      " ciągle żyje kilka prawd \n",
      " \n",
      " nie mow mi nic przeciez juz wszystko wiem \n",
      " nie pomogło , bo pomóc nie może \n",
      " być inaczej \n",
      " jurek poznał agatę \n",
      " postawił drinka , może nawet dwa \n",
      " rozmowa zeszła na dalszy plan \n",
      " pokochał ją jurek agatę - zabrał ją na chatę \n",
      " pokochał ją jurek agatę - zabrał ją na chatę \n",
      " pokochał ją jurek\n",
      "\n",
      "\n",
      "\tGeneration method 2:\n",
      "u ciebie jest ? \n",
      " czyja grzechocze jak grzech kostka lodu ? \n",
      " kto przewagę ma ? \n",
      " ja cię oderwę od ściany. nie chcę zabawką być twą ! \n",
      " chcesz tylko mego ciała. swojego nie chcesz mi dać. \n",
      " chcesz , bym mówił o czym marzę , \n",
      " jakie miewam sny. \n",
      " \n",
      " bo ty kochasz mnie tak jak dawniej ? \n",
      " dlaczego raz jestem nieśmiała ? \n",
      " a jak powiedział wieczny prezydent \n",
      " w niezmiennej wojnie pomnażajcie treść \n",
      " \n",
      " wyobraźnia , gdy przymiera głodem \n",
      " zaprzestaje prowadzenia wojen \n",
      " a jak ty się masz \n",
      " to choćby było marnie \n",
      "\n"
     ]
    }
   ],
   "source": [
    "# load saved dataset\n",
    "with open('dataset.json', 'r') as f:\n",
    "        dataset = json.load(f)\n",
    "\n",
    "# make an n-gram representation of it\n",
    "preprocessed = utils.preprocess(dataset, ngram=3)\n",
    "\n",
    "# build a model\n",
    "model = models.populate_markov(preprocessed)\n",
    "\n",
    "# analyse some basic features\n",
    "print('How likely it is that the model will change the song:')\n",
    "models.how_often_sway_away(model)\n",
    "\n",
    "# define how should the song start\n",
    "starting_words = u\"u ciebie jest\"\n",
    "\n",
    "# generate new songs!\n",
    "print('\\n\\n\\tGeneration method 1:')\n",
    "utils.print_a_song(models.generate(model, text=starting_words))\n",
    "\n",
    "print('\\n\\n\\tGeneration method 2:')  \n",
    "utils.print_a_song(models.unlikely_generate(model, text = starting_words))"
   ]
  },
  {
   "cell_type": "markdown",
   "metadata": {},
   "source": [
    "## Let's include data from additional sources!"
   ]
  },
  {
   "cell_type": "code",
   "execution_count": 16,
   "metadata": {},
   "outputs": [
    {
     "name": "stdout",
     "output_type": "stream",
     "text": [
      "Building model on both songs and poetry\n",
      "How likely it is that the model will change the song:\n",
      "0.0700485056297\n",
      "\n",
      "\n",
      "Text generated using model with train on both songs and poems:\n",
      "litwo ! ojczyzno moja ! ty jesteś jak ona .. \n",
      " a życie kochał , jak szalony , \n",
      " razem dobrze będzie nam. \n",
      " obudź się czarny ali babo , \n",
      " razem się zamienią w tło. \n",
      " pytasz mnie o to jak żyć , jak żyć , jak żyć , \n",
      " dziś odkryłaś tę płytę i ten głos. \n",
      " co dzień coś miesza. \n",
      " jednak wiem nadejdzie lepszy czas. \n",
      " ref . x2 \n",
      " nie słuchaj gdy ulica mówi \" nie da się na zapas \n",
      " bo po co ? co z królem rozmawiał ? \n",
      " czy wiatr ruszył ? tadeusz długo patrzył\n"
     ]
    }
   ],
   "source": [
    "print('Building model on both songs and poetry')\n",
    "# load text file as a dataset\n",
    "mick = datasets.get_data_from_file(['mickiewicz.txt'], ['mickiewicz'])\n",
    "\n",
    "# merge poems from files with songs\n",
    "double_dataset = dict(dataset)\n",
    "double_dataset['mick'] = datasets.get_data_from_file(['mickiewicz.txt'], ['mickiewicz'])['mickiewicz']\n",
    "\n",
    "# represent as n-grams\n",
    "double_dataset = utils.preprocess(double_dataset, ngram=3)\n",
    "\n",
    "# build a model\n",
    "double_model = models.populate_markov(double_dataset)\n",
    "\n",
    "# analyse\n",
    "print('How likely it is that the model will change the song:')\n",
    "models.how_often_sway_away(double_model)\n",
    "\n",
    "# have fun!\n",
    "print('\\n\\nText generated using model with train on both songs and poems:')  \n",
    "utils.print_a_song(models.unlikely_generate(double_model, u\"litwo ! ojczyzno\"))\n"
   ]
  },
  {
   "cell_type": "code",
   "execution_count": null,
   "metadata": {
    "collapsed": true
   },
   "outputs": [],
   "source": []
  }
 ],
 "metadata": {
  "kernelspec": {
   "display_name": "Python [conda root]",
   "language": "python",
   "name": "conda-root-py"
  },
  "language_info": {
   "codemirror_mode": {
    "name": "ipython",
    "version": 2
   },
   "file_extension": ".py",
   "mimetype": "text/x-python",
   "name": "python",
   "nbconvert_exporter": "python",
   "pygments_lexer": "ipython2",
   "version": "2.7.13"
  }
 },
 "nbformat": 4,
 "nbformat_minor": 2
}
