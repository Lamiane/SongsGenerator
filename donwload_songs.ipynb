{
 "cells": [
  {
   "cell_type": "code",
   "execution_count": 1,
   "metadata": {},
   "outputs": [
    {
     "name": "stdout",
     "output_type": "stream",
     "text": [
      "Automatic calling is: Smart\n"
     ]
    }
   ],
   "source": [
    "%autocall 1\n",
    "import requests\n",
    "import re\n",
    "\n",
    "ADRES = \"https://www.tekstowo.pl\"\n",
    "EMPTY_STRING_LENGTH = 6\n",
    "error = \"\""
   ]
  },
  {
   "cell_type": "code",
   "execution_count": 2,
   "metadata": {},
   "outputs": [],
   "source": [
    "def extract_song_url_from_line(line):\n",
    "    return re.findall(\"piosenka.+html\", line)[0]\n",
    "\n",
    "def find_all_subpages(html_source):\n",
    "    return [re.findall(\"/piosenki_artysty.+html\",line)[0] \n",
    "            for line in html_source \n",
    "            if 'alfabetycznie' in line and 'strona' in line]\n",
    "\n",
    "def get_songs_urls(artists):\n",
    "    artist_songs = {}\n",
    "    for artist in artists:\n",
    "        artist_url = \"https://www.tekstowo.pl/piosenki_artysty,\"+artist+\".html\"\n",
    "        r = requests.get(artist_url).text.split('\\n')\n",
    "        \n",
    "        subpages = set(find_all_subpages(r))\n",
    "        \n",
    "        songs_urls=set()\n",
    "        for subpage in subpages:\n",
    "            r = requests.get(ADRES+subpage)\n",
    "            not_yet = True\n",
    "            for line in r.text.split('\\n'):\n",
    "                if not_yet and 'przeboje' not in line:\n",
    "                    continue\n",
    "                not_yet=False\n",
    "                if 'html' in line and artist in line.lower() and 'piosenka' in line:\n",
    "                        songs_urls.add(ADRES + '/' + extract_song_url_from_line(line.strip()))\n",
    "        \n",
    "        artist_songs[artist]=songs_urls\n",
    "    return artist_songs               "
   ]
  },
  {
   "cell_type": "code",
   "execution_count": null,
   "metadata": {},
   "outputs": [],
   "source": [
    "get_songs_urls(['enej', 'lzy'])"
   ]
  },
  {
   "cell_type": "code",
   "execution_count": 28,
   "metadata": {},
   "outputs": [],
   "source": [
    "def extract_lyrics(urls):\n",
    "    polisher = lambda x: x.encode('iso-8859-1').decode('utf-8')\n",
    "    \n",
    "    songs = []\n",
    "#     urls=['http://www.tekstowo.pl/piosenka,Lzy,zdjecia_z_wakacji.html',\n",
    "#           'http://www.tekstowo.pl/piosenka,enej,hey.html']\n",
    "    for url in urls:\n",
    "        print url\n",
    "        html_source = requests.get(url).text\n",
    "        not_yet = True\n",
    "        no_more = False\n",
    "        lyrics = []\n",
    "        for line in html_source.split('\\n'):\n",
    "            if 'song-text' in line:\n",
    "                not_yet = False\n",
    "            if not not_yet and 'javascript' in line:\n",
    "                no_more = True\n",
    "            if not not_yet and not no_more and len(line)>EMPTY_STRING_LENGTH:\n",
    "#                 print line\n",
    "#                 i = 29\n",
    "#                 print \"1sza czesc\", polisher(line.replace('<br />', '').strip()[:i]), line.replace('<br />', '').strip()[:i]\n",
    "#                 print \"2ga czesc\", polisher(line.replace('<br />', '').strip()[i:]), line.replace('<br />', '').strip()[i:]\n",
    "                try :\n",
    "                    lyrics.append(polisher(line.replace('<br />', '').strip()))\n",
    "                except UnicodeDecodeError:\n",
    "                    print line, line.__repr__()\n",
    "        songs.append('\\n'.join(lyrics[3:-2]))\n",
    "    return songs\n",
    "    \n",
    "# e = extract_lyrics(get_songs_urls(['enej', 'lzy'])['enej'])    \n",
    "# extract_lyrics(['http://www.tekstowo.pl/piosenka,enej,nie_chce_spac.html'])\n",
    "# 'http://www.tekstowo.pl/piosenka,enej,zagubiony.html',"
   ]
  },
  {
   "cell_type": "code",
   "execution_count": 29,
   "metadata": {},
   "outputs": [
    {
     "name": "stdout",
     "output_type": "stream",
     "text": [
      "https://www.tekstowo.pl/piosenka,enej,hej__fonetycznie_.html\n",
      "https://www.tekstowo.pl/piosenka,enej,lita_orel.html\n",
      "https://www.tekstowo.pl/piosenka,enej,co_dzis_dal_los_.html\n",
      "https://www.tekstowo.pl/piosenka,enej,pan_babilon.html\n",
      "https://www.tekstowo.pl/piosenka,enej,oj_pishov_ja_w_dunay.html\n",
      "https://www.tekstowo.pl/piosenka,enej,radio.html\n",
      "https://www.tekstowo.pl/piosenka,enej,melancholia.html\n",
      "https://www.tekstowo.pl/piosenka,enej,nie_chce_spac.html\n",
      "                    Gwiazdy mÃ³wiÄ",
      ", Å¼e gdy zasnÄ",
      "<br /> u'                    Gwiazdy m\\xc3\\xb3wi\\xc4\\x85, \\xc5\\xbce gdy zasn\\xc4\\x85<br />'\n",
      "https://www.tekstowo.pl/piosenka,enej,hey.html\n",
      "https://www.tekstowo.pl/piosenka,enej,pragnienie.html\n",
      "https://www.tekstowo.pl/piosenka,enej,zyje_sie_raz.html\n",
      "Gdyby zostaÅ alfÄ",
      " i omegÄ",
      "<br /> u'Gdyby zosta\\xc5\\x82 alf\\xc4\\x85 i omeg\\xc4\\x85<br />'\n",
      "https://www.tekstowo.pl/piosenka,enej,ulice.html\n",
      "https://www.tekstowo.pl/piosenka,enej,lili.html\n",
      "Ja namalujÄ dzieÅ TwojÄ",
      " rÄkÄ",
      "<br /> u'Ja namaluj\\xc4\\x99 dzie\\xc5\\x84 Twoj\\xc4\\x85 r\\xc4\\x99k\\xc4\\x85<br />'\n",
      "Ja namalujÄ dzieÅ TwojÄ",
      " rÄkÄ",
      "<br /> u'Ja namaluj\\xc4\\x99 dzie\\xc5\\x84 Twoj\\xc4\\x85 r\\xc4\\x99k\\xc4\\x85<br />'\n",
      "Ja namalujÄ dzieÅ TwojÄ",
      " rÄkÄ",
      "<br /> u'Ja namaluj\\xc4\\x99 dzie\\xc5\\x84 Twoj\\xc4\\x85 r\\xc4\\x99k\\xc4\\x85<br />'\n",
      "Ja namalujÄ dzieÅ TwojÄ",
      " rÄkÄ",
      "<br /> u'Ja namaluj\\xc4\\x99 dzie\\xc5\\x84 Twoj\\xc4\\x85 r\\xc4\\x99k\\xc4\\x85<br />'\n",
      "Ja namalujÄ dzieÅ TwojÄ",
      " rÄkÄ",
      "<br /> u'Ja namaluj\\xc4\\x99 dzie\\xc5\\x84 Twoj\\xc4\\x85 r\\xc4\\x99k\\xc4\\x85<br />'\n",
      "Ja namalujÄ dzieÅ TwojÄ",
      " rÄkÄ",
      "<br /> u'Ja namaluj\\xc4\\x99 dzie\\xc5\\x84 Twoj\\xc4\\x85 r\\xc4\\x99k\\xc4\\x85<br />'\n",
      "https://www.tekstowo.pl/piosenka,enej,myla_moja__fonetyczny_.html\n",
      "https://www.tekstowo.pl/piosenka,enej,daleki_jasni_zori.html\n",
      "https://www.tekstowo.pl/piosenka,enej,coppernicana.html\n",
      "https://www.tekstowo.pl/piosenka,enej,taki_kraj.html\n",
      "https://www.tekstowo.pl/piosenka,enej,interludium_lemko.html\n",
      "https://www.tekstowo.pl/piosenka,enej,bilia_topoli.html\n",
      "https://www.tekstowo.pl/piosenka,enej,a_wczora_z_wieczora.html\n",
      "https://www.tekstowo.pl/piosenka,enej,skrzydlate_rece.html\n",
      "https://www.tekstowo.pl/piosenka,enej,moja_mery_lu.html\n",
      "Gdy widziaÅ jÄ",
      "<br /> u'Gdy widzia\\xc5\\x82 j\\xc4\\x85<br />'\n",
      "JuÅ¼ na zawsze bÄdzie z niÄ",
      "<br /> u'Ju\\xc5\\xbc na zawsze b\\xc4\\x99dzie z ni\\xc4\\x85<br />'\n",
      "Aby ciÄ",
      "gle prosiÄ jÄ",
      "<br /> u'Aby ci\\xc4\\x85gle prosi\\xc4\\x87 j\\xc4\\x85<br />'\n",
      "https://www.tekstowo.pl/piosenka,enej,amelia.html\n",
      "https://www.tekstowo.pl/piosenka,enej,taki_i_treba.html\n",
      "https://www.tekstowo.pl/piosenka,enej,niepewnosc.html\n",
      "https://www.tekstowo.pl/piosenka,enej,komu.html\n",
      "https://www.tekstowo.pl/piosenka,enej,sam_na_sam.html\n",
      "https://www.tekstowo.pl/piosenka,enej,nese_hala_wodu.html\n",
      "https://www.tekstowo.pl/piosenka,enej,odpusc_sobie_to.html\n",
      "https://www.tekstowo.pl/piosenka,enej,united__feat_wozzo__tomson.html\n",
      "https://www.tekstowo.pl/piosenka,enej,noc.html\n",
      "https://www.tekstowo.pl/piosenka,enej,panstwo_b.html\n",
      "https://www.tekstowo.pl/piosenka,enej,zagubiony.html\n",
      "https://www.tekstowo.pl/piosenka,enej,symetryczno_liryczna.html\n",
      "Nie bÄdÄ kusiÅ mÄ",
      " rezydencjÄ",
      "<br /> u'Nie b\\xc4\\x99d\\xc4\\x99 kusi\\xc5\\x82 m\\xc4\\x85 rezydencj\\xc4\\x85<br />'\n",
      "Nie bÄdÄ kÅamaÅ, chwaliÅ siÄ inteligencjÄ",
      "<br /> u'Nie b\\xc4\\x99d\\xc4\\x99 k\\xc5\\x82ama\\xc5\\x82, chwali\\xc5\\x82 si\\xc4\\x99 inteligencj\\xc4\\x85<br />'\n",
      "Bo to grozi dekadencjÄ",
      "<br /> u'Bo to grozi dekadencj\\xc4\\x85<br />'\n",
      "NiedotykalnÄ",
      " i nieprzewidywalnÄ",
      "<br /> u'Niedotykaln\\xc4\\x85 i nieprzewidywaln\\xc4\\x85<br />'\n",
      "Poznam CiÄ z miÅoÅciÄ",
      " symetryczno-lirycznÄ",
      "<br /> u'Poznam Ci\\xc4\\x99 z mi\\xc5\\x82o\\xc5\\x9bci\\xc4\\x85 symetryczno-liryczn\\xc4\\x85<br />'\n",
      "I niekoniecznie czystÄ",
      "<br /> u'I niekoniecznie czyst\\xc4\\x85<br />'\n",
      "Poznam CiÄ z miÅoÅciÄ",
      " naturalnÄ",
      "<br /> u'Poznam Ci\\xc4\\x99 z mi\\xc5\\x82o\\xc5\\x9bci\\xc4\\x85 naturaln\\xc4\\x85<br />'\n",
      "NiedotykalnÄ",
      " i nieprzewidywalnÄ",
      "<br /> u'Niedotykaln\\xc4\\x85 i nieprzewidywaln\\xc4\\x85<br />'\n",
      "Poznam CiÄ z miÅoÅciÄ",
      " symetryczno-lirycznÄ",
      "<br /> u'Poznam Ci\\xc4\\x99 z mi\\xc5\\x82o\\xc5\\x9bci\\xc4\\x85 symetryczno-liryczn\\xc4\\x85<br />'\n",
      "I niekoniecznie czystÄ",
      "<br /> u'I niekoniecznie czyst\\xc4\\x85<br />'\n",
      "NiedotykalnÄ",
      " i nieprzewidywalnÄ",
      "<br /> u'Niedotykaln\\xc4\\x85 i nieprzewidywaln\\xc4\\x85<br />'\n",
      "Poznam CiÄ z miÅoÅciÄ",
      " symetryczno-lirycznÄ",
      "<br /> u'Poznam Ci\\xc4\\x99 z mi\\xc5\\x82o\\xc5\\x9bci\\xc4\\x85 symetryczno-liryczn\\xc4\\x85<br />'\n",
      "I niekoniecznie czystÄ",
      "<br /> u'I niekoniecznie czyst\\xc4\\x85<br />'\n",
      "Poznam CiÄ z miÅoÅciÄ",
      " naturalnÄ",
      "<br /> u'Poznam Ci\\xc4\\x99 z mi\\xc5\\x82o\\xc5\\x9bci\\xc4\\x85 naturaln\\xc4\\x85<br />'\n",
      "NiedotykalnÄ",
      " i nieprzewidywalnÄ",
      "<br /> u'Niedotykaln\\xc4\\x85 i nieprzewidywaln\\xc4\\x85<br />'\n",
      "Poznam CiÄ z miÅoÅciÄ",
      " symetryczno-lirycznÄ",
      "<br /> u'Poznam Ci\\xc4\\x99 z mi\\xc5\\x82o\\xc5\\x9bci\\xc4\\x85 symetryczno-liryczn\\xc4\\x85<br />'\n",
      "I niekoniecznie czystÄ",
      "<br /> u'I niekoniecznie czyst\\xc4\\x85<br />'\n",
      "NiedotykalnÄ",
      " i nieprzewidywalnÄ",
      "<br /> u'Niedotykaln\\xc4\\x85 i nieprzewidywaln\\xc4\\x85<br />'\n",
      "Poznam CiÄ z miÅoÅciÄ",
      " symetryczno-lirycznÄ",
      "<br /> u'Poznam Ci\\xc4\\x99 z mi\\xc5\\x82o\\xc5\\x9bci\\xc4\\x85 symetryczno-liryczn\\xc4\\x85<br />'\n",
      "I niekoniecznie czystÄ",
      "<br /> u'I niekoniecznie czyst\\xc4\\x85<br />'\n",
      "Poznam CiÄ z miÅoÅciÄ",
      " naturalnÄ",
      "<br /> u'Poznam Ci\\xc4\\x99 z mi\\xc5\\x82o\\xc5\\x9bci\\xc4\\x85 naturaln\\xc4\\x85<br />'\n",
      "NiedotykalnÄ",
      " i nieprzewidywalnÄ",
      "<br /> u'Niedotykaln\\xc4\\x85 i nieprzewidywaln\\xc4\\x85<br />'\n",
      "Poznam CiÄ z miÅoÅciÄ",
      " symetryczno-lirycznÄ",
      "<br /> u'Poznam Ci\\xc4\\x99 z mi\\xc5\\x82o\\xc5\\x9bci\\xc4\\x85 symetryczno-liryczn\\xc4\\x85<br />'\n",
      "https://www.tekstowo.pl/piosenka,enej,wodka.html\n",
      "https://www.tekstowo.pl/piosenka,enej,myla_moja.html\n",
      "https://www.tekstowo.pl/piosenka,enej,moze_bedzie_lepiej.html\n",
      "https://www.tekstowo.pl/piosenka,enej,hermetyczny_swiat.html\n",
      "https://www.tekstowo.pl/piosenka,enej,rahela.html\n",
      "https://www.tekstowo.pl/piosenka,enej,bozevilni_sny.html\n",
      "https://www.tekstowo.pl/piosenka,enej,z_trojandoju.html\n",
      "Ð ÑÐ°Ð»ÐµÐ½Ð¸Ñ",
      " Ð¾ÑÐ°Ñ",
      "<br /> u'\\xd0\\x92 \\xd1\\x88\\xd0\\xb0\\xd0\\xbb\\xd0\\xb5\\xd0\\xbd\\xd0\\xb8\\xd1\\x85 \\xd0\\xbe\\xd1\\x87\\xd0\\xb0\\xd1\\x85<br />'\n",
      "https://www.tekstowo.pl/piosenka,enej,scirocco.html\n",
      "https://www.tekstowo.pl/piosenka,enej,mow_mi_dobrze.html\n",
      "https://www.tekstowo.pl/piosenka,enej,woda_zyciodajna.html\n",
      "https://www.tekstowo.pl/piosenka,enej,radio_hello.html\n",
      "https://www.tekstowo.pl/piosenka,enej,siliozy_kamiani.html\n",
      "https://www.tekstowo.pl/piosenka,enej,wychowala_nas_ulica.html\n",
      "https://www.tekstowo.pl/piosenka,enej,dzisiaj_bede_ja.html\n",
      "https://www.tekstowo.pl/piosenka,enej,vitre_hnatyi.html\n",
      "https://www.tekstowo.pl/piosenka,enej,powiedz.html\n",
      "https://www.tekstowo.pl/piosenka,enej,moja_eneida.html\n",
      "https://www.tekstowo.pl/piosenka,enej,paparanoja.html\n",
      "https://www.tekstowo.pl/piosenka,enej,tak_smakuje_zycie.html\n",
      "https://www.tekstowo.pl/piosenka,enej,przepraszam_cie_za_wszystko.html\n",
      "https://www.tekstowo.pl/piosenka,enej,trunek.html\n",
      "https://www.tekstowo.pl/piosenka,enej,kuba_gang.html\n",
      "https://www.tekstowo.pl/piosenka,enej,radio_hello__ukrainski_.html\n",
      "https://www.tekstowo.pl/piosenka,enej,wioska.html\n",
      "https://www.tekstowo.pl/piosenka,enej,odrobina_czasu.html\n",
      "https://www.tekstowo.pl/piosenka,enej,radio_hello_fonetyczny_.html\n",
      "https://www.tekstowo.pl/piosenka,enej,ballada_o_pewnej_podrozy.html\n",
      "https://www.tekstowo.pl/piosenka,enej,mnohaja_lita.html\n",
      "https://www.tekstowo.pl/piosenka,enej,siedmiomilowa_szansa.html\n",
      "https://www.tekstowo.pl/piosenka,enej,kamien_z_napisem_love_1.html\n",
      "u'No, bo kwiaty szybko schn\\xc4\\x85 <br />\\r'\n",
      "u'No, bo kwiaty szybko schn\\xc4\\x85 <br />\\r'\n",
      "u'No, bo kwiaty szybko schn\\xc4\\x85 <br />\\r'\n",
      "u'No, bo kwiaty szybko schn\\xc4\\x85 <br />\\r'\n",
      "u'No, bo kwiaty szybko schn\\xc4\\x85 <br />\\r'\n",
      "u'No, bo kwiaty szybko schn\\xc4\\x85 <br />\\r'\n",
      "https://www.tekstowo.pl/piosenka,enej,hory_moi.html\n",
      "https://www.tekstowo.pl/piosenka,enej,ludzie_wolnej_ziemi.html\n",
      "Tylko na pole modliÄ siÄ idÄ",
      " <br /> u'Tylko na pole modli\\xc4\\x87 si\\xc4\\x99 id\\xc4\\x85 <br />'\n",
      "https://www.tekstowo.pl/piosenka,enej,dobryj_weczir_tobi.html\n",
      "https://www.tekstowo.pl/piosenka,enej,cykady_na_cykladach.html\n",
      "W nocy gdy gwiazdy spadajÄ",
      " <br /> u'W nocy gdy gwiazdy spadaj\\xc4\\x85 <br />'\n",
      "W nocy gdy gwiazdy spadajÄ",
      " <br /> u'W nocy gdy gwiazdy spadaj\\xc4\\x85 <br />'\n",
      "W nocy gdy gwiazdy spadajÄ",
      " <br /> u'W nocy gdy gwiazdy spadaj\\xc4\\x85 <br />'\n",
      "W nocy gdy gwiazdy spadajÄ",
      " <br /> u'W nocy gdy gwiazdy spadaj\\xc4\\x85 <br />'\n",
      "https://www.tekstowo.pl/piosenka,enej,zyj.html\n"
     ]
    },
    {
     "name": "stdout",
     "output_type": "stream",
     "text": [
      "https://www.tekstowo.pl/piosenka,enej,kortowiada.html\n",
      "https://www.tekstowo.pl/piosenka,enej,wszystko_takie_proste.html\n",
      "https://www.tekstowo.pl/piosenka,enej,zbudujemy_dom.html\n",
      "https://www.tekstowo.pl/piosenka,enej,przeznaczenie.html\n",
      "                    ChciaÅaÅ zostaÄ mÄ",
      " krÃ³lewnÄ",
      "<br /> u'                    Chcia\\xc5\\x82a\\xc5\\x9b zosta\\xc4\\x87 m\\xc4\\x85 kr\\xc3\\xb3lewn\\xc4\\x85<br />'\n",
      "ChciaÅaÅ byÄ tÄ",
      " tylko jednÄ",
      "<br /> u'Chcia\\xc5\\x82a\\xc5\\x9b by\\xc4\\x87 t\\xc4\\x85 tylko jedn\\xc4\\x85<br />'\n",
      "https://www.tekstowo.pl/piosenka,enej,czarny_ali_baba.html\n",
      "https://www.tekstowo.pl/piosenka,Lzy,jestes_powietrzem.html\n",
      "https://www.tekstowo.pl/piosenka,Lzy,ta_cz__zaprosil_cie_na_bal.html\n",
      "https://www.tekstowo.pl/piosenka,Lzy,historia_z_ksiazki_mej.html\n",
      "https://www.tekstowo.pl/piosenka,Lzy,w_ksiezycowym_snie.html\n",
      "https://www.tekstowo.pl/piosenka,Lzy,kiedy_nie_ma_w_nas_milosci.html\n",
      "https://www.tekstowo.pl/piosenka,Lzy,polnoc.html\n",
      "u'I gwiazdy \\xc5\\x9bpi\\xc4\\x85 <br />\\r'\n",
      "https://www.tekstowo.pl/piosenka,Lzy,jesli_jeszcze_wierzysz_w_milosc_1.html\n",
      "https://www.tekstowo.pl/piosenka,Lzy,w_tym_znaku_zapytania.html\n",
      "https://www.tekstowo.pl/piosenka,Lzy,najdrozsze_kwiaty.html\n",
      "https://www.tekstowo.pl/piosenka,Lzy,bo_kazdej_nocy.html\n",
      "https://www.tekstowo.pl/piosenka,Lzy,cala_soba.html\n",
      "u'Ref. Chc\\xc4\\x99 kocha\\xc4\\x87 ca\\xc5\\x82\\xc4\\x85 sob\\xc4\\x85<br />\\r'\n",
      "u'Ref. Chc\\xc4\\x99 kocha\\xc4\\x87 ca\\xc5\\x82\\xc4\\x85 sob\\xc4\\x85<br />\\r'\n",
      "https://www.tekstowo.pl/piosenka,Lzy,gdy_na_was_patrze.html\n",
      "https://www.tekstowo.pl/piosenka,Lzy,westchnienia_i_szepty_bezwstydne.html\n",
      "u'                    Stoj\\xc4\\x99 przed \\xc5\\xbcyciem jak przed szyb\\xc4\\x85 <br />\\r'\n",
      "https://www.tekstowo.pl/piosenka,Lzy,zanim_swiat_nas_rozdzieli.html\n",
      "https://www.tekstowo.pl/piosenka,Lzy,nie_lubie_nikogo.html\n",
      "Zawsze chodzÄ wÅasnÄ",
      " drogÄ",
      "<br /> u'Zawsze chodz\\xc4\\x99 w\\xc5\\x82asn\\xc4\\x85 drog\\xc4\\x85<br />'\n",
      "Zawsze chodzÄ wÅasnÄ",
      " drogÄ",
      "<br /> u'Zawsze chodz\\xc4\\x99 w\\xc5\\x82asn\\xc4\\x85 drog\\xc4\\x85<br />'\n",
      "Zawsze chodzÄ wÅasnÄ",
      " drogÄ",
      "<br /> u'Zawsze chodz\\xc4\\x99 w\\xc5\\x82asn\\xc4\\x85 drog\\xc4\\x85<br />'\n",
      "Zawsze chodzÄ wÅasnÄ",
      " drogÄ",
      "<br /> u'Zawsze chodz\\xc4\\x99 w\\xc5\\x82asn\\xc4\\x85 drog\\xc4\\x85<br />'\n",
      "Zawsze chodzÄ wÅasnÄ",
      " drogÄ",
      "<br /> u'Zawsze chodz\\xc4\\x99 w\\xc5\\x82asn\\xc4\\x85 drog\\xc4\\x85<br />'\n",
      "Zawsze chodzÄ wÅasnÄ",
      " drogÄ",
      "<br /> u'Zawsze chodz\\xc4\\x99 w\\xc5\\x82asn\\xc4\\x85 drog\\xc4\\x85<br />'\n",
      "Zawsze chodzÄ wÅasnÄ",
      " drogÄ",
      "<br /> u'Zawsze chodz\\xc4\\x99 w\\xc5\\x82asn\\xc4\\x85 drog\\xc4\\x85<br />'\n",
      "Zawsze chodzÄ wÅasnÄ",
      " drogÄ",
      "<br /> u'Zawsze chodz\\xc4\\x99 w\\xc5\\x82asn\\xc4\\x85 drog\\xc4\\x85<br />'\n",
      "Zawsze chodzÄ wÅasnÄ",
      " drogÄ",
      "<br /> u'Zawsze chodz\\xc4\\x99 w\\xc5\\x82asn\\xc4\\x85 drog\\xc4\\x85<br />'\n",
      "Zawsze chodzÄ wÅasnÄ",
      " drogÄ",
      "<br /> u'Zawsze chodz\\xc4\\x99 w\\xc5\\x82asn\\xc4\\x85 drog\\xc4\\x85<br />'\n",
      "Zawsze chodzÄ wÅasnÄ",
      " drogÄ",
      "<br /> u'Zawsze chodz\\xc4\\x99 w\\xc5\\x82asn\\xc4\\x85 drog\\xc4\\x85<br />'\n",
      "Zawsze chodzÄ wÅasnÄ",
      " drogÄ",
      "<br /> u'Zawsze chodz\\xc4\\x99 w\\xc5\\x82asn\\xc4\\x85 drog\\xc4\\x85<br />'\n",
      "https://www.tekstowo.pl/piosenka,Lzy,pamietaj_o_mnie.html\n",
      "WiÄc pamiÄtaj o mnie, bo gdy usta zamilknÄ",
      "<br /> u'Wi\\xc4\\x99c pami\\xc4\\x99taj o mnie, bo gdy usta zamilkn\\xc4\\x85<br />'\n",
      "WiÄc pamiÄtaj o mnie, bo gdy usta zamilknÄ",
      "<br /> u'Wi\\xc4\\x99c pami\\xc4\\x99taj o mnie, bo gdy usta zamilkn\\xc4\\x85<br />'\n",
      "WiÄc pamiÄtaj o mnie, bo gdy usta zamilknÄ",
      "<br /> u'Wi\\xc4\\x99c pami\\xc4\\x99taj o mnie, bo gdy usta zamilkn\\xc4\\x85<br />'\n",
      "https://www.tekstowo.pl/piosenka,Lzy,7_stop_pod_ziemia.html\n",
      "https://www.tekstowo.pl/piosenka,Lzy,chod__wszyscy_zaplacza__to_nic_sie_nie_zmieni.html\n",
      "u'Ty jeste\\xc5\\x9b ju\\xc5\\xbc z inn\\xc4\\x85<br />\\r'\n",
      "https://www.tekstowo.pl/piosenka,Lzy,zdjecia_z_wakacji.html\n",
      "https://www.tekstowo.pl/piosenka,Lzy,dla_milosci_warto.html\n",
      "u'Aureola \\xc5\\x9bwieci ponad twoj\\xc4\\x85 g\\xc5\\x82ow\\xc4\\x85 <br />\\r'\n",
      "https://www.tekstowo.pl/piosenka,Lzy,jestem_taka_jestem.html\n",
      "https://www.tekstowo.pl/piosenka,Lzy,ty_na_zawsze.html\n",
      "https://www.tekstowo.pl/piosenka,Lzy,zatancz_ze_mna__prosze.html\n",
      "https://www.tekstowo.pl/piosenka,Lzy,modlitwa.html\n",
      "https://www.tekstowo.pl/piosenka,Lzy,jestem_jaka_jestem.html\n",
      "https://www.tekstowo.pl/piosenka,Lzy,slodkie_winogrona.html\n",
      "u'Niewa\\xc5\\xbcne gdzie potem nas wrzuc\\xc4\\x85 <br />\\r'\n",
      "u'Uciekasz z domu noc\\xc4\\x85 <br />\\r'\n",
      "https://www.tekstowo.pl/piosenka,Lzy,niebieska_sukienka.html\n",
      "u'Tak widzia\\xc5\\x82am j\\xc4\\x85 <br />\\r'\n",
      "u'Tak widzia\\xc5\\x82am j\\xc4\\x85 <br />\\r'\n",
      "https://www.tekstowo.pl/piosenka,Lzy,szczescia_smak.html\n",
      "https://www.tekstowo.pl/piosenka,Lzy,chcialabym.html\n",
      "https://www.tekstowo.pl/piosenka,Lzy,imagine.html\n",
      "https://www.tekstowo.pl/piosenka,Lzy,slo_ce_dla_ciebie.html\n",
      "https://www.tekstowo.pl/piosenka,Lzy,czasami__ot_tak.html\n",
      "u'Godzinami wpatruj\\xc4\\x99 si\\xc4\\x99 w ciebie, jakby\\xc5\\x9b to ty by\\xc5\\x82 ukryt\\xc4\\x85 prawd\\xc4\\x85 <br />\\r'\n",
      "https://www.tekstowo.pl/piosenka,Lzy,jestes_jak_ona.html\n",
      "https://www.tekstowo.pl/piosenka,Lzy,julia_tak_na_imie_mam.html\n",
      "u'Lecz nie przejmuj si\\xc4\\x99 nie my\\xc5\\x9ble ju\\xc5\\xbc o Tobie noc\\xc4\\x85 <br />\\r'\n",
      "https://www.tekstowo.pl/piosenka,Lzy,opowiem_wam_moja_historie.html\n",
      "https://www.tekstowo.pl/piosenka,Lzy,lukrecja.html\n",
      "Ty pachniaÅeÅ lukrecjÄ",
      "<br /> u'Ty pachnia\\xc5\\x82e\\xc5\\x9b lukrecj\\xc4\\x85<br />'\n",
      "I twe oczy pÅonÄÅy miÅoÅciÄ",
      "<br /> u'I twe oczy p\\xc5\\x82on\\xc4\\x99\\xc5\\x82y mi\\xc5\\x82o\\xc5\\x9bci\\xc4\\x85<br />'\n",
      "Ty pachniaÅeÅ lukrecjÄ",
      "<br /> u'Ty pachnia\\xc5\\x82e\\xc5\\x9b lukrecj\\xc4\\x85<br />'\n",
      "https://www.tekstowo.pl/piosenka,Lzy,jestem_dilerem.html\n",
      "https://www.tekstowo.pl/piosenka,Lzy,moje_szczescie_z_toba.html\n",
      "https://www.tekstowo.pl/piosenka,Lzy,pierwsza_lza.html\n",
      "u'w ca\\xc5\\x82ym bloku wszyscy grzecznie \\xc5\\x9bpi\\xc4\\x85 <br />\\r'\n",
      "u'w ca\\xc5\\x82ym bloku wszyscy grzecznie \\xc5\\x9bpi\\xc4\\x85 <br />\\r'\n",
      "https://www.tekstowo.pl/piosenka,Lzy,valerie.html\n",
      "https://www.tekstowo.pl/piosenka,Lzy,uciekajac_przed_m.html\n",
      "https://www.tekstowo.pl/piosenka,Lzy,emmanuelle_noire.html\n",
      "https://www.tekstowo.pl/piosenka,Lzy,gdybys_byl.html\n",
      "https://www.tekstowo.pl/piosenka,Lzy,ja_samotna.html\n",
      "https://www.tekstowo.pl/piosenka,Lzy,twoje_serce.html\n",
      "https://www.tekstowo.pl/piosenka,Lzy,oczy_szeroko_zamkniete.html\n",
      "https://www.tekstowo.pl/piosenka,Lzy,w_moim_snie.html\n",
      "https://www.tekstowo.pl/piosenka,Lzy,nie_wiem__nie_wiem.html\n",
      "https://www.tekstowo.pl/piosenka,Lzy,Lzy_szczescia.html\n",
      "https://www.tekstowo.pl/piosenka,Lzy,poki_smierc_nas_nie_rozlaczy.html\n",
      "https://www.tekstowo.pl/piosenka,Lzy,nocami_i_dniami_a_teraz_czasami.html\n",
      "u'Pami\\xc4\\x99taj pieni\\xc4\\x85dze szcz\\xc4\\x99\\xc5\\x9bcia nie daj\\xc4\\x85 <br />\\r'\n",
      "u'Pami\\xc4\\x99taj pieni\\xc4\\x85dze szcz\\xc4\\x99\\xc5\\x9bcia nie daj\\xc4\\x85 <br />\\r'\n",
      "u'Pami\\xc4\\x99taj pieni\\xc4\\x85dze szcz\\xc4\\x99\\xc5\\x9bcia nie daj\\xc4\\x85 <br />\\r'\n",
      "u'Pami\\xc4\\x99taj pieni\\xc4\\x85dze szcz\\xc4\\x99\\xc5\\x9bcia nie daj\\xc4\\x85 <br />\\r'\n",
      "https://www.tekstowo.pl/piosenka,Lzy,wrocilam.html\n",
      "u'niech wszyscy zobacz\\xc4\\x85 <br />\\r'\n",
      "u'niech wszyscy zobacz\\xc4\\x85 <br />\\r'\n",
      "https://www.tekstowo.pl/piosenka,Lzy,przepraszam_cie.html\n",
      "https://www.tekstowo.pl/piosenka,Lzy,mialam_dziwny_sen.html\n",
      "https://www.tekstowo.pl/piosenka,Lzy,nielatwe_pozegnanie.html\n",
      "https://www.tekstowo.pl/piosenka,Lzy,nadzieja_nie_dla_mnie.html\n",
      "https://www.tekstowo.pl/piosenka,Lzy,czy_jeszcze_kochasz_mnie.html\n",
      "u'Je\\xc5\\x9bli wci\\xc4\\x85\\xc5\\xbc jeste\\xc5\\x9b ze mn\\xc4\\x85 <br />\\r'\n",
      "https://www.tekstowo.pl/piosenka,Lzy,jedna_mysl.html\n",
      "https://www.tekstowo.pl/piosenka,Lzy,czekam_tyle_dni.html\n",
      "https://www.tekstowo.pl/piosenka,Lzy,bez_sensu_niewazne.html\n",
      "https://www.tekstowo.pl/piosenka,Lzy,mialam_piekny_sen.html\n",
      "https://www.tekstowo.pl/piosenka,Lzy,on.html\n",
      "https://www.tekstowo.pl/piosenka,Lzy,zamykasz_drzwi_i_odchodzisz.html\n",
      "https://www.tekstowo.pl/piosenka,Lzy,tak_nie_bedzie_zawsze.html\n",
      "https://www.tekstowo.pl/piosenka,Lzy,czy_mozesz_to_dla_mnie_zrobic.html\n",
      "https://www.tekstowo.pl/piosenka,Lzy,wdowa___pajeczarka.html\n",
      "https://www.tekstowo.pl/piosenka,Lzy,ogrod__naszych_dni.html\n",
      "https://www.tekstowo.pl/piosenka,Lzy,anka__ot_tak.html\n",
      "https://www.tekstowo.pl/piosenka,Lzy,jak_aniol.html\n",
      "https://www.tekstowo.pl/piosenka,Lzy,milosc.html\n",
      "https://www.tekstowo.pl/piosenka,Lzy,ciszej__ciemniej.html\n",
      "https://www.tekstowo.pl/piosenka,Lzy,opowiem_wam_jej_historie.html\n"
     ]
    },
    {
     "name": "stdout",
     "output_type": "stream",
     "text": [
      "WybaczyÅa ojcu, Å¼e gwaÅciÅ jÄ",
      " nocÄ",
      " <br /> u'Wybaczy\\xc5\\x82a ojcu, \\xc5\\xbce gwa\\xc5\\x82ci\\xc5\\x82 j\\xc4\\x85 noc\\xc4\\x85 <br />'\n",
      "https://www.tekstowo.pl/piosenka,Lzy,to_nic__nie_kochasz_mnie.html\n",
      "u'Minuta za minut\\xc4\\x85 <br />\\r'\n",
      "https://www.tekstowo.pl/piosenka,Lzy,z_kazdym_nowym_dniem.html\n",
      "u'kto\\xc5\\x9b krzycza\\xc5\\x82 za \\xc5\\x9bcian\\xc4\\x85<br />\\r'\n",
      "https://www.tekstowo.pl/piosenka,Lzy,dzis_bedziesz_moj.html\n",
      "https://www.tekstowo.pl/piosenka,Lzy,ja_nie_lubie_nikogo.html\n",
      "u'Ja nie lubi\\xc4\\x99 nikogo, zawsze chodz\\xc4\\x99 w\\xc5\\x82asn\\xc4\\x85 drog\\xc4\\x85<br />\\r'\n",
      "https://www.tekstowo.pl/piosenka,Lzy,czarna_magia.html\n",
      "https://www.tekstowo.pl/piosenka,Lzy,ostatnia_noc__pozegnanie.html\n",
      "https://www.tekstowo.pl/piosenka,Lzy,puste_slowa.html\n",
      "https://www.tekstowo.pl/piosenka,Lzy,twoja__ot_tak.html\n",
      "u'                    Jestem twoj\\xc4\\x85 rozkosz\\xc4\\x85 <br />\\r'\n",
      "u'Jestem twoim grzechem i twoj\\xc4\\x85 w\\xc5\\x9bciek\\xc5\\x82o\\xc5\\x9bci\\xc4\\x85 <br />\\r'\n",
      "u'Jestem twoim szale\\xc5\\x84stwem i twoj\\xc4\\x85 w\\xc4\\x85tpliwo\\xc5\\x9bci\\xc4\\x85 <br />\\r'\n",
      "u'Jestem twoj\\xc4\\x85 zdobycz\\xc4\\x85 <br />\\r'\n",
      "u'Jestem twoj\\xc4\\x85 trucizn\\xc4\\x85 <br />\\r'\n",
      "u'Jestem twoj\\xc4\\x85 zabaw\\xc4\\x85 i oboj\\xc4\\x99tno\\xc5\\x9bci\\xc4\\x85 <br />\\r'\n",
      "u'Jestem po\\xc5\\xbc\\xc4\\x85daniem nie twoj\\xc4\\x85 mi\\xc5\\x82o\\xc5\\x9bci\\xc4\\x85 <br />\\r'\n",
      "https://www.tekstowo.pl/piosenka,Lzy,serce_z_kamienia.html\n",
      "https://www.tekstowo.pl/piosenka,Lzy,opiekun.html\n",
      "https://www.tekstowo.pl/piosenka,Lzy,bog_ukaral_nas.html\n",
      "u'Z dziewicz\\xc4\\x85 niewinno\\xc5\\x9bci\\xc4\\x85<br />\\r'\n",
      "u'Obrazy widz\\xc4\\x99 jak za mg\\xc5\\x82\\xc4\\x85<br />\\r'\n",
      "https://www.tekstowo.pl/piosenka,Lzy,nie_mam_nic__przepraszam_.html\n",
      "https://www.tekstowo.pl/piosenka,Lzy,do_zakochania_jeden_krok.html\n",
      "https://www.tekstowo.pl/piosenka,Lzy,mow_bez_slow.html\n",
      "https://www.tekstowo.pl/piosenka,Lzy,czy_to_grzech.html\n",
      "u'Po\\xc5\\x9br\\xc3\\xb3d ludzi, kt\\xc3\\xb3rzy tutaj gardz\\xc4\\x85 mn\\xc4\\x85 <br />\\r'\n",
      "https://www.tekstowo.pl/piosenka,Lzy,w_krysztalowym_snie.html\n",
      "https://www.tekstowo.pl/piosenka,Lzy,weronika___efekt_motyla.html\n",
      "https://www.tekstowo.pl/piosenka,Lzy,zycie_jest_piekne.html\n",
      "    Åwiat nie bÄdzie litowaÅ siÄ nad tobÄ",
      " <br /> u'    \\xc5\\x9awiat nie b\\xc4\\x99dzie litowa\\xc5\\x82 si\\xc4\\x99 nad tob\\xc4\\x85 <br />'\n",
      "    Tylko Ty decydujesz czy z podniesionÄ",
      " gÅowÄ",
      " <br /> u'    Tylko Ty decydujesz czy z podniesion\\xc4\\x85 g\\xc5\\x82ow\\xc4\\x85 <br />'\n",
      "    Czy z podniesionÄ",
      " gÅowÄ",
      " <br /> u'    Czy z podniesion\\xc4\\x85 g\\xc5\\x82ow\\xc4\\x85 <br />'\n",
      "https://www.tekstowo.pl/piosenka,Lzy,przeboj.html\n",
      "https://www.tekstowo.pl/piosenka,Lzy,tak_niewiele.html\n",
      "https://www.tekstowo.pl/piosenka,Lzy,troche_wspomnie__tamtych_dni.html\n",
      "https://www.tekstowo.pl/piosenka,Lzy,piosenka_z_aniolami.html\n",
      "https://www.tekstowo.pl/piosenka,Lzy,zabij_sie__zabij.html\n",
      "u'Kt\\xc3\\xb3r\\xc4\\x85 nogi gdzie\\xc5\\x9b nios\\xc4\\x85 <br />\\r'\n",
      "https://www.tekstowo.pl/piosenka,Lzy,na_nic_nie_czekam.html\n",
      "https://www.tekstowo.pl/piosenka,Lzy,w_moim_swiecie.html\n",
      "https://www.tekstowo.pl/piosenka,Lzy,sztuka_stapiania.html\n",
      "https://www.tekstowo.pl/piosenka,Lzy,nie_wie_nikt_z_nas.html\n",
      "https://www.tekstowo.pl/piosenka,Lzy,jestes__wiem__ze_jestes.html\n",
      "https://www.tekstowo.pl/piosenka,Lzy,aniele_moj.html\n",
      "https://www.tekstowo.pl/piosenka,Lzy,osiem_serc.html\n",
      "https://www.tekstowo.pl/piosenka,Lzy,agnieszka.html\n",
      "u'I przysi\\xc4\\x99gli przed Bogiem mi\\xc5\\x82o\\xc5\\x9b\\xc4\\x87 wzajemn\\xc4\\x85<br />\\r'\n",
      "u'\\xc5\\xbbe za rok si\\xc4\\x99 spotkaj\\xc4\\x85 i na zawsze ze sob\\xc4\\x85 ju\\xc5\\xbc b\\xc4\\x99d\\xc4\\x85<br />\\r'\n",
      "https://www.tekstowo.pl/piosenka,Lzy,kocham_to_dzis_nic_nie_znaczy.html\n",
      "u'W moich uszach twe s\\xc5\\x82owa wci\\xc4\\x85\\xc5\\xbc jeszcze brzmi\\xc4\\x85<br />\\r'\n",
      "https://www.tekstowo.pl/piosenka,Lzy,nienawisc__czekam_na_dzie_.html\n",
      "u'Nie wi\\xc5\\x84 mnie za to, \\xc5\\xbce moje my\\xc5\\x9bli ci\\xc4\\x85gle z Tob\\xc4\\x85 s\\xc4\\x85 <br />\\r'\n",
      "https://www.tekstowo.pl/piosenka,Lzy,o_wszystkim.html\n",
      "https://www.tekstowo.pl/piosenka,Lzy,czekam_na_nasz_koniec_swiata.html\n",
      "https://www.tekstowo.pl/piosenka,Lzy,anastazja_jestem.html\n",
      "u'Nikt nie stoi, wszyscy dobrze si\\xc4\\x99 bawi\\xc4\\x85 <br />\\r'\n",
      "u'Nikt nie stoi, wszyscy dobrze si\\xc4\\x99 bawi\\xc4\\x85 <br />\\r'\n",
      "u'Codziennie modl\\xc4\\x99 si\\xc4\\x99, by\\xc5\\x9b zabra\\xc5\\x82 mnie ze sob\\xc4\\x85 <br />\\r'\n",
      "https://www.tekstowo.pl/piosenka,Lzy,ostatni_na_dobranoc.html\n",
      "https://www.tekstowo.pl/piosenka,Lzy,narcyz.html\n",
      "https://www.tekstowo.pl/piosenka,Lzy,jak_cukierek.html\n",
      "https://www.tekstowo.pl/piosenka,Lzy,bonus.html\n",
      "u'Ty jeste\\xc5\\x9b ju\\xc5\\xbc z inn\\xc4\\x85<br />\\r'\n"
     ]
    }
   ],
   "source": [
    "def download_lyrics(artists):\n",
    "    song_book = {}\n",
    "    for artist in artists:\n",
    "        song_book[artist] = extract_lyrics(get_songs_urls([artist,])[artist])\n",
    "    return song_book\n",
    "\n",
    "ss = download_lyrics(['enej', 'lzy'])"
   ]
  },
  {
   "cell_type": "code",
   "execution_count": 8,
   "metadata": {},
   "outputs": [
    {
     "name": "stdout",
     "output_type": "stream",
     "text": [
      "['ConnectTimeout', 'ConnectionError', 'DependencyWarning', 'FileModeWarning', 'HTTPError', 'NullHandler', 'PreparedRequest', 'ReadTimeout', 'Request', 'RequestException', 'Response', 'Session', 'Timeout', 'TooManyRedirects', 'URLRequired', '__author__', '__build__', '__builtins__', '__copyright__', '__doc__', '__file__', '__license__', '__name__', '__package__', '__path__', '__title__', '__version__', '_internal_utils', 'adapters', 'api', 'auth', 'certs', 'codes', 'compat', 'cookies', 'delete', 'exceptions', 'get', 'head', 'hooks', 'logging', 'models', 'options', 'packages', 'patch', 'post', 'put', 'pyopenssl', 'request', 'session', 'sessions', 'status_codes', 'structures', 'utils', 'warnings']\n"
     ]
    }
   ],
   "source": []
  },
  {
   "cell_type": "code",
   "execution_count": null,
   "metadata": {
    "collapsed": true
   },
   "outputs": [],
   "source": [
    "print(dir(requests))"
   ]
  },
  {
   "cell_type": "raw",
   "metadata": {},
   "source": [
    "print(r)"
   ]
  },
  {
   "cell_type": "code",
   "execution_count": 4,
   "metadata": {},
   "outputs": [
    {
     "data": {
      "text/plain": [
       "<Response [200]>"
      ]
     },
     "execution_count": 4,
     "metadata": {},
     "output_type": "execute_result"
    }
   ],
   "source": [
    "r"
   ]
  },
  {
   "cell_type": "code",
   "execution_count": 9,
   "metadata": {},
   "outputs": [
    {
     "data": {
      "text/plain": [
       "u'<!DOCTYPE html PUBLIC \"-//W3C//DTD XHTML+RDFa 1.0//EN\"\\r\\n    \"http://www.w3.org/MarkUp/DTD/xhtml-rdfa-1.dtd\">\\r\\n<html xmlns=\"http://www.w3.org/1999/xhtml\" xmlns:og=\"http://ogp.me/ns\" xmlns:fb=\"http://ogp.me/ns/fb\"  xmlns:website=\"http://ogp.me/ns/website\" version=\"XHTML+RDFa 1.0\" xml:lang=\"pl\" >\\r\\n<head>\\r\\n        <meta http-equiv=\"Content-Type\" content=\"text/html; charset=utf-8\"/>\\r\\n        <meta http-equiv=\"X-UA-Compatible\" content=\"IE=edge\"/>\\r\\n                        \\t<title>\\xc5\\x81zy - teksty piosenek, t\\xc5\\x82umaczenia piosenek, teledyski na Tekstowo.pl</title>\\r\\n\\t<meta name=\"Description\" content=\"\\xc5\\x81zy - teksty piosenek, t\\xc5\\x82umaczenia piosenek i teledyski. Znajd\\xc5\\xba tekst piosenki oraz t\\xc5\\x82umaczenie piosenki i zobacz teledysk swojego ulubionego utworu.\" />\\r\\n\\t<meta name=\"Keywords\" content=\"\\xc5\\x81zy, teksty piosenek, t\\xc5\\x82umaczenia piosenek, teledyski, s\\xc5\\x82owa piosenek, tekst piosenki, t\\xc5\\x82umaczenie piosenki, teksty, piosenki, piosenka, tekst, teledysk, muzyka\" />\\r\\n\\t<meta name=\"revisit-after\" content=\"12 hours\" />\\r\\n\\t<meta name=\"language\" content=\"pl\" />\\r\\n\\t<meta http-equiv=\"Content-language\" content=\"pl\" />\\r\\n\\t<meta name=\"robots\" content=\"INDEX, FOLLOW\" />\\r\\n        <link rel=\"search\" type=\"application/opensearchdescription+xml\" title=\"Tekstowo: Po tytule piosenki\" href=\"http://www.tekstowo.pl/piosenki_osd.xml\">\\r\\n        <link rel=\"search\" type=\"application/opensearchdescription+xml\" title=\"Tekstowo: Po tytule soundtracka\" href=\"http://www.tekstowo.pl/soundtracki_osd.xml\">\\r\\n\\t<link rel=\"stylesheet\" type=\"text/css\" href=\"/static/style/reset.css\" />\\r\\n        <link rel=\"stylesheet\" type=\"text/css\" href=\"/static/style/site-3.1.11.css\" /> \\r\\n        \\r\\n                     <meta property=\"og:type\" content=\"website\" />\\r\\n            <meta property=\"og:image\" content=\"http://www.tekstowo.pl/static/images/logo_big.png\" />\\r\\n            <meta property=\"og:url\" content=\"http://www.tekstowo.pl/piosenki_artysty,lzy.html\" />\\r\\n            <meta property=\"og:title\" content=\"\\xc5\\x81zy - teksty piosenek, t\\xc5\\x82umaczenia piosenek, teledyski na Tekstowo.pl\"/>\\r\\n            <meta property=\"og:description\" content=\"\\xc5\\x81zy - teksty piosenek, t\\xc5\\x82umaczenia piosenek i teledyski. Znajd\\xc5\\xba tekst piosenki oraz t\\xc5\\x82umaczenie piosenki i zobacz teledysk swojego ulubionego utworu.\"/>\\r\\n                    \\r\\n            <meta property=\"og:site_name\" content=\"Tekstowo.pl\" />\\r\\n            <meta property=\"fb:app_id\" content=\"131858753537922\" />\\r\\n        \\r\\n                        <script type=\"text/javascript\">\\r\\n\\t\\t//<![CDATA[ \\r\\n\\t\\tvar ytProxy = \\'//filmiki4.maxart.pl/ytp.php\\';\\r\\n\\t\\t//]]>\\r\\n\\t</script>\\r\\n        \\r\\n\\t<script type=\"text/javascript\" src=\"/static/js/mootools-core-1.4.5.js\"></script> \\r\\n\\t<script type=\"text/javascript\" src=\"/static/js/mootools-more-1.4.0.1.js\"></script>\\r\\n\\t        <script type=\"text/javascript\" src=\"/static/js/pulse.js\"></script>\\r\\n\\t<script type=\"text/javascript\" src=\"/static/js/Autocompleter.js\"></script> \\r\\n\\t<script type=\"text/javascript\" src=\"/static/js/Autocompleter.Request.js\"></script> \\r\\n\\t<script type=\"text/javascript\" src=\"/static/js/Observer.js\"></script> \\r\\n\\t<script type=\"text/javascript\" src=\"/static/js/main-3.3.js\"></script>\\r\\n        \\t \\t \\t \\t \\t \\t \\t \\r\\n\\t    \\r\\n\\t \\r\\n</head>\\r\\n<body>\\r\\n    <script type=\"text/javascript\" src=\"/static/js/cookie-info.js\"></script>\\r\\n    <script type=\"text/javascript\">ci.init(\\'/polityka-cookies.pdf\\');</script>\\r\\n\\r\\n<div id=\"contener\">\\r\\n    <div class=\"top-top\">\\r\\n        <a href=\"/\"><img style=\"margin-top: -1px\" src=\"/static/images/logo.gif\" width=\"240\" height=\"81\" alt=\"tekstowo.pl\" title=\"Teksty piosenek, t\\xc5\\x82umaczenia, teledyski\" /></a>\\r\\n\\r\\n    <div class=\"top-links\">\\r\\n            <a href=\"/logowanie.html\" title=\"Logowanie\">Logowanie</a> |\\r\\n        <a href=\"/rejestracja.html\" title=\"Rejestracja\">Rejestracja</a> |\\r\\n            <a href=\"/faq.html\" title=\"FAQ\">FAQ</a> |\\r\\n        <a href=\"/regulamin.html\" title=\"Regulamin\">Regulamin</a> |\\r\\n        <a href=\"/kontakt.html\" title=\"Kontakt\">Kontakt</a>\\r\\n    </div>\\r\\n\\r\\n    <ul class=\"topmenu\">\\r\\n        <li class=\"topmenu-first\"><a href=\"/\" title=\"G\\xc5\\x82\\xc3\\xb3wna\" >G\\xc5\\x82\\xc3\\xb3wna</a></li>\\r\\n        <li><a href=\"/przegladaj_teksty.html\" title=\"Teksty\" class=\"active\">Teksty</a></li>\\r\\n        <li><a href=\"/szukane_utwory.html\" title=\"Poszukiwane teksty\" >Poszukiwane teksty</a></li>\\r\\n        <li><a href=\"/soundtracki.html\" title=\"Soundtracki\" >Soundtracki</a></li>\\r\\n        <li><a href=\"/rankingi\" title=\"Rankingi\" >Rankingi</a></li>\\r\\n        <li class=\"topmenu-last\"><a href=\"/uzytkownicy.html\" title=\"U\\xc5\\xbcytkownicy\" class=\"no-bg \">U\\xc5\\xbcytkownicy</a></li>\\r\\n        </ul>\\r\\n    </div>\\r\\n\\t    <div id=\"t170319\">\\r\\n\\t\\t<div class=\"adv-top\"> <!-- reklama pion -->\\r\\n\\t\\t    <div>\\r\\n\\t\\t    <a title=\"Ukryj reklamy\" href=\"javascript:;\" rel=\"loginbox\" id=\"hide-ads\"></a>\\t\\t    \\n    \\t     \\n    \\n    <div id=\\'bmone2n-1246.2.1.30\\'></div> \\n\\t\\t\\n\\t\\t\\n\\t\\t    </div>\\r\\n\\t\\t</div> <!-- end reklama pion -->\\r\\n\\t    </div>\\r\\n                <div id=\"center\">\\r\\n        <div class=\"left-corner\">\\r\\n            <a href=\"/\" class=\"green\" title=\"Teksty piosenek\">Teksty piosenek</a> &gt; <a href=\"/artysci_na,L.html\" class=\"green\" title=\"Teksty piosenek, t\\xc5\\x82umaczenia piosenek i teledyski wykonawc\\xc3\\xb3w na liter\\xc4\\x99 L\">L</a>\\r\\n\\t     &gt; <a href=\"/piosenki_artysty,lzy.html\" class=\"green\" title=\"\\xc5\\x81zy\">\\xc5\\x81zy</a>\\r\\n\\t            </div>\\r\\n        <div class=\"right-corner\">\\r\\n            1 394 876 tekst\\xc3\\xb3w w serwisie, 13 047 poszukiwanych i 638 oczekuj\\xc4\\x85cych\\r\\n        </div>\\r\\n\\r\\n        <div class=\"clear\"></div>\\r\\n\\r\\n        <div class=\"big-buttons\">\\r\\n            <div class=\"marginb5\"><a href=\"/dodaj_tekst.html\" rel=\"loginbox\" class=\"dodaj-tekst\" title=\"Dodaj tekst\">Dodaj tekst</a></div>\\r\\n            <div class=\"marginb5\"><a href=\"/zaproponuj_utwor.html\" rel=\"loginbox\" class=\"zaproponuj-utwor\" title=\"Szukasz utworu?\">Szukasz utworu?</a></div>\\r\\n            <div><a href=\"/dodaj_soundtrack.html\" rel=\"loginbox\" class=\"dodaj-soundtrack\" title=\"Dodaj soundtrack\">Dodaj soundtrack</a></div>\\r\\n        </div>\\r\\n        \\r\\n                    <div class=\"green-box\"> <!-- green-box -->\\r\\n    <div class=\"left-side\"></div>\\r\\n    <div class=\"right-side\"></div>\\r\\n\\r\\n    <form action=\"/wyszukaj.html\" method=\"get\">\\r\\n        <fieldset class=\"search\">\\r\\n            <label for=\"s-autor\" class=\"big-text\">Szukaj tekstu piosenki</label>\\r\\n            <input type=\"text\" id=\"s-autor\" name=\"search-artist\" class=\"search-text\" value=\"Podaj wykonawc\\xc4\\x99\" />\\r\\n            <label class=\"mini\" for=\"s-title\"> i/lub </label>\\r\\n            <input type=\"text\" id=\"s-title\" name=\"search-title\" class=\"search-text\" value=\"Podaj tytu\\xc5\\x82\" />\\r\\n            <input type=\"submit\" class=\"search-send\" value=\"\" />\\r\\n        </fieldset>\\r\\n    </form>\\r\\n\\r\\n    <a href=\"/wyszukiwanie-zaawansowane.html\" class=\"search-adv\">wyszukiwanie zaawansowane &gt;</a>\\r\\n\\r\\n    <div class=\"przegladaj big-text\">Przegl\\xc4\\x85daj wykonawc\\xc3\\xb3w na liter\\xc4\\x99</div>\\r\\n    <ul class=\"alfabet\">\\r\\n                    <li><a href=\"/artysci_na,A.html\" title=\"Teksty piosenek, t\\xc5\\x82umaczenia piosenek i teledyski wykonawc\\xc3\\xb3w na liter\\xc4\\x99 A\">A</a></li>\\r\\n                    <li><a href=\"/artysci_na,B.html\" title=\"Teksty piosenek, t\\xc5\\x82umaczenia piosenek i teledyski wykonawc\\xc3\\xb3w na liter\\xc4\\x99 B\">B</a></li>\\r\\n                    <li><a href=\"/artysci_na,C.html\" title=\"Teksty piosenek, t\\xc5\\x82umaczenia piosenek i teledyski wykonawc\\xc3\\xb3w na liter\\xc4\\x99 C\">C</a></li>\\r\\n                    <li><a href=\"/artysci_na,D.html\" title=\"Teksty piosenek, t\\xc5\\x82umaczenia piosenek i teledyski wykonawc\\xc3\\xb3w na liter\\xc4\\x99 D\">D</a></li>\\r\\n                    <li><a href=\"/artysci_na,E.html\" title=\"Teksty piosenek, t\\xc5\\x82umaczenia piosenek i teledyski wykonawc\\xc3\\xb3w na liter\\xc4\\x99 E\">E</a></li>\\r\\n                    <li><a href=\"/artysci_na,F.html\" title=\"Teksty piosenek, t\\xc5\\x82umaczenia piosenek i teledyski wykonawc\\xc3\\xb3w na liter\\xc4\\x99 F\">F</a></li>\\r\\n                    <li><a href=\"/artysci_na,G.html\" title=\"Teksty piosenek, t\\xc5\\x82umaczenia piosenek i teledyski wykonawc\\xc3\\xb3w na liter\\xc4\\x99 G\">G</a></li>\\r\\n                    <li><a href=\"/artysci_na,H.html\" title=\"Teksty piosenek, t\\xc5\\x82umaczenia piosenek i teledyski wykonawc\\xc3\\xb3w na liter\\xc4\\x99 H\">H</a></li>\\r\\n                    <li><a href=\"/artysci_na,I.html\" title=\"Teksty piosenek, t\\xc5\\x82umaczenia piosenek i teledyski wykonawc\\xc3\\xb3w na liter\\xc4\\x99 I\">I</a></li>\\r\\n                    <li><a href=\"/artysci_na,J.html\" title=\"Teksty piosenek, t\\xc5\\x82umaczenia piosenek i teledyski wykonawc\\xc3\\xb3w na liter\\xc4\\x99 J\">J</a></li>\\r\\n                    <li><a href=\"/artysci_na,K.html\" title=\"Teksty piosenek, t\\xc5\\x82umaczenia piosenek i teledyski wykonawc\\xc3\\xb3w na liter\\xc4\\x99 K\">K</a></li>\\r\\n                    <li><a href=\"/artysci_na,L.html\" title=\"Teksty piosenek, t\\xc5\\x82umaczenia piosenek i teledyski wykonawc\\xc3\\xb3w na liter\\xc4\\x99 L\">L</a></li>\\r\\n                    <li><a href=\"/artysci_na,M.html\" title=\"Teksty piosenek, t\\xc5\\x82umaczenia piosenek i teledyski wykonawc\\xc3\\xb3w na liter\\xc4\\x99 M\">M</a></li>\\r\\n                    <li><a href=\"/artysci_na,N.html\" title=\"Teksty piosenek, t\\xc5\\x82umaczenia piosenek i teledyski wykonawc\\xc3\\xb3w na liter\\xc4\\x99 N\">N</a></li>\\r\\n                    <li><a href=\"/artysci_na,O.html\" title=\"Teksty piosenek, t\\xc5\\x82umaczenia piosenek i teledyski wykonawc\\xc3\\xb3w na liter\\xc4\\x99 O\">O</a></li>\\r\\n                    <li><a href=\"/artysci_na,P.html\" title=\"Teksty piosenek, t\\xc5\\x82umaczenia piosenek i teledyski wykonawc\\xc3\\xb3w na liter\\xc4\\x99 P\">P</a></li>\\r\\n                    <li><a href=\"/artysci_na,Q.html\" title=\"Teksty piosenek, t\\xc5\\x82umaczenia piosenek i teledyski wykonawc\\xc3\\xb3w na liter\\xc4\\x99 Q\">Q</a></li>\\r\\n                    <li><a href=\"/artysci_na,R.html\" title=\"Teksty piosenek, t\\xc5\\x82umaczenia piosenek i teledyski wykonawc\\xc3\\xb3w na liter\\xc4\\x99 R\">R</a></li>\\r\\n                    <li><a href=\"/artysci_na,S.html\" title=\"Teksty piosenek, t\\xc5\\x82umaczenia piosenek i teledyski wykonawc\\xc3\\xb3w na liter\\xc4\\x99 S\">S</a></li>\\r\\n                    <li><a href=\"/artysci_na,T.html\" title=\"Teksty piosenek, t\\xc5\\x82umaczenia piosenek i teledyski wykonawc\\xc3\\xb3w na liter\\xc4\\x99 T\">T</a></li>\\r\\n                    <li><a href=\"/artysci_na,U.html\" title=\"Teksty piosenek, t\\xc5\\x82umaczenia piosenek i teledyski wykonawc\\xc3\\xb3w na liter\\xc4\\x99 U\">U</a></li>\\r\\n                    <li><a href=\"/artysci_na,V.html\" title=\"Teksty piosenek, t\\xc5\\x82umaczenia piosenek i teledyski wykonawc\\xc3\\xb3w na liter\\xc4\\x99 V\">V</a></li>\\r\\n                    <li><a href=\"/artysci_na,W.html\" title=\"Teksty piosenek, t\\xc5\\x82umaczenia piosenek i teledyski wykonawc\\xc3\\xb3w na liter\\xc4\\x99 W\">W</a></li>\\r\\n                    <li><a href=\"/artysci_na,X.html\" title=\"Teksty piosenek, t\\xc5\\x82umaczenia piosenek i teledyski wykonawc\\xc3\\xb3w na liter\\xc4\\x99 X\">X</a></li>\\r\\n                    <li><a href=\"/artysci_na,Y.html\" title=\"Teksty piosenek, t\\xc5\\x82umaczenia piosenek i teledyski wykonawc\\xc3\\xb3w na liter\\xc4\\x99 Y\">Y</a></li>\\r\\n                    <li><a href=\"/artysci_na,Z.html\" title=\"Teksty piosenek, t\\xc5\\x82umaczenia piosenek i teledyski wykonawc\\xc3\\xb3w na liter\\xc4\\x99 Z\">Z</a></li>\\r\\n                <li><a href=\"/artysci_na,pozostale.html\" title=\"Teksty piosenek, t\\xc5\\x82umaczenia piosenek i teledyski wykonawc\\xc3\\xb3w w kategorii &quot;Pozosta\\xc5\\x82e&quot;\">0-9</a></li>\\r\\n    </ul>\\r\\n\\r\\n</div> <!-- end green-box -->                <div class=\"clear\"></div>\\r\\n\\r\\n<div class=\"left-column \">\\r\\n    <div class=\"clear\"></div>\\r\\n    \\t\\t    <div class=\"left-box-top margint10\"></div> <!-- logowanie -->\\r\\n\\t    <div class=\"left-box-content\">\\r\\n\\t\\t<h3>Zaloguj si\\xc4\\x99</h3>\\r\\n\\t\\ti wykorzystaj wszystkie mo\\xc5\\xbcliwo\\xc5\\x9bci serwisu!\\r\\n\\r\\n\\t\\t\\t\\t<fieldset class=\"login\">\\r\\n\\t\\t    <a class=\"login-send\" href=\"https://www.tekstowo.pl/logowanie.html\"></a>\\r\\n\\t\\t    <a href=\"javascript:;\" class=\"fb-button my-fb-login-button\" title=\"Zaloguj si\\xc4\\x99 z Facebookiem\"></a>\\r\\n\\t\\t</fieldset>\\r\\n\\r\\n\\t\\t<ul class=\"arrows margint10\">\\r\\n\\t\\t    <li><a href=\"/przypomnij.html\" class=\"green bold\" title=\"Zapomnia\\xc5\\x82em has\\xc5\\x82a\">Przypomnienie has\\xc5\\x82a</a></li>\\r\\n\\t\\t    <li><a href=\"/rejestracja.html\" class=\"green bold\" title=\"Nie mam jeszcze konta\">Nie mam jeszcze konta</a></li>\\r\\n\\t\\t</ul>\\r\\n\\r\\n\\t    </div>\\r\\n\\t    <div class=\"left-box-bottom\"></div> <!-- end logowanie -->\\r\\n\\t            \\t<div class=\"left-box-top\"></div> <!-- inne utwory -->\\r\\n\\t<div class=\"left-box-content left-box-nomargin\">\\r\\n\\t    <h3>Teksty piosenek</h3>\\r\\n\\t    <h4>\\xc5\\x81zy</h4>\\r\\n\\t     \\r\\n\\r\\n\\t    \\t\\t<div class=\"box-przeboje \">\\r\\n\\t\\t    <b>1.</b> <a href=\"piosenka,Lzy,jestem_taka_jestem.html\" class=\"title\" title=\"\\xc5\\x81zy - Jestem taka jestem\">\\xc5\\x81zy - Jestem taka jestem </a>\\r\\n\\t\\t    <b title=\"teledysk\" class=\"icon_kamera\"></b>\\t\\t</div>\\r\\n\\t    \\t\\t<div class=\"box-przeboje \">\\r\\n\\t\\t    <b>2.</b> <a href=\"piosenka,Lzy,czy_mozesz_to_dla_mnie_zrobic.html\" class=\"title\" title=\"\\xc5\\x81zy - Czy mo\\xc5\\xbcesz to dla mnie zrobi\\xc4\\x87\">\\xc5\\x81zy - Czy mo\\xc5\\xbcesz to dla mnie zrobi\\xc4\\x87 </a>\\r\\n\\t\\t    <b title=\"teledysk\" class=\"icon_kamera\"></b>\\t\\t</div>\\r\\n\\t    \\t\\t<div class=\"box-przeboje \">\\r\\n\\t\\t    <b>3.</b> <a href=\"piosenka,Lzy,zycie_jest_piekne.html\" class=\"title\" title=\"\\xc5\\x81zy - \\xc5\\xbbycie jest pi\\xc4\\x99kne\">\\xc5\\x81zy - \\xc5\\xbbycie jest pi\\xc4\\x99kne </a>\\r\\n\\t\\t    <b title=\"teledysk\" class=\"icon_kamera\"></b>\\t\\t</div>\\r\\n\\t    \\t\\t<div class=\"box-przeboje \">\\r\\n\\t\\t    <b>4.</b> <a href=\"piosenka,Lzy,jestes_powietrzem.html\" class=\"title\" title=\"\\xc5\\x81zy - Jeste\\xc5\\x9b Powietrzem\">\\xc5\\x81zy - Jeste\\xc5\\x9b Powietrzem </a>\\r\\n\\t\\t    <b title=\"teledysk\" class=\"icon_kamera\"></b>\\t\\t</div>\\r\\n\\t    \\t\\t<div class=\"box-przeboje no-bg\">\\r\\n\\t\\t    <b>5.</b> <a href=\"piosenka,Lzy,czekam_na_nasz_koniec_swiata.html\" class=\"title\" title=\"\\xc5\\x81zy - Czekam na nasz koniec \\xc5\\x9bwiata\">\\xc5\\x81zy - Czekam na nasz koniec \\xc5\\x9bwiata </a>\\r\\n\\t\\t    <b title=\"teledysk\" class=\"icon_kamera\"></b>\\t\\t</div>\\r\\n\\t    \\t</div>\\r\\n\\t<div class=\"left-box-bottom\"></div> <!-- end inne utwory -->\\r\\n\\t<a href=\"/piosenki_artysty,Lzy.html\" class=\"block text-right\" title=\"Zobacz wi\\xc4\\x99cej &gt;&gt;\">Zobacz wi\\xc4\\x99cej &gt;&gt;</a>\\r\\n\\r\\n\\t\\t    <div class=\"left-box-top\"></div> <!-- inne utwory -->\\r\\n\\t    <div class=\"left-box-content left-box-nomargin\">\\r\\n\\t\\t<h3>Poszukiwane t\\xc5\\x82umaczenia</h3>\\r\\n\\t\\t<h4>\\xc5\\x81zy</h4>\\r\\n\\t\\t\\t\\t\\t\\t    <div class=\"box-przeboje \">\\r\\n\\t\\t\\t<b>1.</b> <a href=\"/piosenka,Lzy,jestes_powietrzem.html\" class=\"title\">\\xc5\\x81zy - Jeste\\xc5\\x9b Powietrzem</a>\\r\\n\\t\\t    </div>\\r\\n\\t\\t\\t\\t    <div class=\"box-przeboje \">\\r\\n\\t\\t\\t<b>2.</b> <a href=\"/piosenka,Lzy,w_moim_snie.html\" class=\"title\">\\xc5\\x81zy - W moim \\xc5\\x9bnie</a>\\r\\n\\t\\t    </div>\\r\\n\\t\\t\\t\\t    <div class=\"box-przeboje \">\\r\\n\\t\\t\\t<b>3.</b> <a href=\"/piosenka,Lzy,nienawisc__czekam_na_dzie_.html\" class=\"title\">\\xc5\\x81zy - Nienawi\\xc5\\x9b\\xc4\\x87, czekam na dzie\\xc5\\x84</a>\\r\\n\\t\\t    </div>\\r\\n\\t\\t\\t\\t    <div class=\"box-przeboje \">\\r\\n\\t\\t\\t<b>4.</b> <a href=\"/piosenka,Lzy,ogrod__naszych_dni.html\" class=\"title\">\\xc5\\x81zy - Ogr\\xc3\\xb3d, naszych dni</a>\\r\\n\\t\\t    </div>\\r\\n\\t\\t\\t\\t    <div class=\"box-przeboje \">\\r\\n\\t\\t\\t<b>5.</b> <a href=\"/piosenka,Lzy,moje_szczescie_z_toba.html\" class=\"title\">\\xc5\\x81zy - Moje szcz\\xc4\\x99\\xc5\\x9bcie z tob\\xc4\\x85</a>\\r\\n\\t\\t    </div>\\r\\n\\t\\t\\t\\t    <div class=\"box-przeboje \">\\r\\n\\t\\t\\t<b>6.</b> <a href=\"/piosenka,Lzy,zycie_jest_piekne.html\" class=\"title\">\\xc5\\x81zy - \\xc5\\xbbycie jest pi\\xc4\\x99kne</a>\\r\\n\\t\\t    </div>\\r\\n\\t\\t\\t\\t    <div class=\"box-przeboje \">\\r\\n\\t\\t\\t<b>7.</b> <a href=\"/piosenka,Lzy,mow_bez_slow.html\" class=\"title\">\\xc5\\x81zy - M\\xc3\\xb3w bez s\\xc5\\x82\\xc3\\xb3w</a>\\r\\n\\t\\t    </div>\\r\\n\\t\\t\\t\\t    <div class=\"box-przeboje \">\\r\\n\\t\\t\\t<b>8.</b> <a href=\"/piosenka,Lzy,na_nic_nie_czekam.html\" class=\"title\">\\xc5\\x81zy - Na nic nie czekam</a>\\r\\n\\t\\t    </div>\\r\\n\\t\\t\\t\\t    <div class=\"box-przeboje \">\\r\\n\\t\\t\\t<b>9.</b> <a href=\"/piosenka,Lzy,bog_ukaral_nas.html\" class=\"title\">\\xc5\\x81zy - B\\xc3\\xb3g ukara\\xc5\\x82 nas</a>\\r\\n\\t\\t    </div>\\r\\n\\t\\t\\t\\t    <div class=\"box-przeboje no-bg\">\\r\\n\\t\\t\\t<b>10.</b> <a href=\"/piosenka,Lzy,ciszej__ciemniej.html\" class=\"title\">\\xc5\\x81zy - Ciszej, ciemniej</a>\\r\\n\\t\\t    </div>\\r\\n\\t\\t\\t    </div>\\r\\n\\t    <div class=\"left-box-bottom\"></div> <!-- end inne utwory -->\\r\\n\\t    \\r\\n    \\t<div class=\"left-box-top\"></div> <!-- inne utwory -->\\r\\n\\t<div class=\"left-box-content left-box-nomargin\">\\r\\n\\t    <h3>Poszukiwane teksty</h3>\\r\\n\\r\\n\\t    \\t\\t<div class=\"box-przeboje \">\\r\\n\\t\\t    <b>1.</b> <a rel=\"loginbox\" href=\"/dodaj_tekst,wykonawca,PHIL+SAWYER,tytul,OH+BEAUTIFUL+PARADISE,poszukiwany,273448.html\" class=\"title\">Phil sawyer - Oh beautiful paradise</a>\\r\\n\\t\\t</div>\\r\\n\\t    \\t\\t<div class=\"box-przeboje \">\\r\\n\\t\\t    <b>2.</b> <a rel=\"loginbox\" href=\"/dodaj_tekst,wykonawca,Chris+Thile%2C+Chris+Eldridge%2C+Marcus+Mumford%2C+Justin+Timberlake+%26+Gabe+Witcher,tytul,The+Auld+Triangle,poszukiwany,294374.html\" class=\"title\">Chris thile, chris eldridge, marcus mumford, justin timberlake & gabe witcher - The auld triangle</a>\\r\\n\\t\\t</div>\\r\\n\\t    \\t\\t<div class=\"box-przeboje \">\\r\\n\\t\\t    <b>3.</b> <a rel=\"loginbox\" href=\"/dodaj_tekst,wykonawca,PHIL+SAWYER,tytul,Nightbirds,poszukiwany,273451.html\" class=\"title\">Phil sawyer - Nightbirds</a>\\r\\n\\t\\t</div>\\r\\n\\t    \\t\\t<div class=\"box-przeboje \">\\r\\n\\t\\t    <b>4.</b> <a rel=\"loginbox\" href=\"/dodaj_tekst,wykonawca,Tom+Jordan,tytul,Beautiful+Moment+%28feat.+Katie+Herzig%29,poszukiwany,288297.html\" class=\"title\">Tom jordan - Beautiful moment (feat. katie herzig)</a>\\r\\n\\t\\t</div>\\r\\n\\t    \\t\\t<div class=\"box-przeboje \">\\r\\n\\t\\t    <b>5.</b> <a rel=\"loginbox\" href=\"/dodaj_tekst,wykonawca,Joe+Maneri,tytul,Paniots+Nine,poszukiwany,285236.html\" class=\"title\">Joe maneri - Paniots nine</a>\\r\\n\\t\\t</div>\\r\\n\\t    \\t\\t<div class=\"box-przeboje \">\\r\\n\\t\\t    <b>6.</b> <a rel=\"loginbox\" href=\"/dodaj_tekst,wykonawca,Winston,tytul,Hortifuckinculturalist,poszukiwany,275595.html\" class=\"title\">Winston - Hortifuckinculturalist</a>\\r\\n\\t\\t</div>\\r\\n\\t    \\t\\t<div class=\"box-przeboje \">\\r\\n\\t\\t    <b>7.</b> <a rel=\"loginbox\" href=\"/dodaj_tekst,wykonawca,Re-Upold,tytul,The+Hunger+Games,poszukiwany,288079.html\" class=\"title\">Re-upold - The hunger games</a>\\r\\n\\t\\t</div>\\r\\n\\t    \\t\\t<div class=\"box-przeboje \">\\r\\n\\t\\t    <b>8.</b> <a rel=\"loginbox\" href=\"/dodaj_tekst,wykonawca,Mika+Kaneko,tytul,Juurokuya,poszukiwany,290170.html\" class=\"title\">Mika kaneko - Juurokuya</a>\\r\\n\\t\\t</div>\\r\\n\\t    \\t\\t<div class=\"box-przeboje \">\\r\\n\\t\\t    <b>9.</b> <a rel=\"loginbox\" href=\"/dodaj_tekst,wykonawca,Silent+Poets+feat+Thom,tytul,Moment+Scale+%28Club+Master+X+Remix%29,poszukiwany,277422.html\" class=\"title\">Silent poets feat thom - Moment scale (club master x remix)</a>\\r\\n\\t\\t</div>\\r\\n\\t    \\t\\t<div class=\"box-przeboje no-bg\">\\r\\n\\t\\t    <b>10.</b> <a rel=\"loginbox\" href=\"/dodaj_tekst,wykonawca,Paula+%26+Karol,tytul,lThe+Way+We+Were,poszukiwany,279637.html\" class=\"title\">Paula & karol - Lthe way we were</a>\\r\\n\\t\\t</div>\\r\\n\\t    \\t</div>\\r\\n\\t<div class=\"left-box-bottom\"></div> <!-- end inne utwory -->\\r\\n\\t<a href=\"/szukane_utwory.html\" class=\"block text-right\" title=\"Zobacz wi\\xc4\\x99cej &gt;&gt;\">Zobacz wi\\xc4\\x99cej &gt;&gt;</a>\\r\\n\\t    \\r\\n    <div class=\"left-box-top\"></div> <!-- polecamy -->\\r\\n    <div class=\"left-box-content\">\\r\\n\\t<h3>Polecamy</h3>\\r\\n\\t\\xef\\xbb\\xbf<ul class=\"arrows\" style=\"float: left;\">\\n    <li><a href=\"http://www.giercownia.pl\" title=\"Gry online\" class=\"blank\">Gry online</a></li>\\n\\t<li><a href=\"http://www.maxior.pl\" title=\"Filmy\" class=\"blank\">\\xc5\\x9amieszne filmy</a></li>\\n    <li><a href=\"http://www.bajer.pl\" title=\"Dziewczyny\" class=\"blank\">Polskie dziewczyny</a></li>\\n\\t<li><a href=\"http://m.giercownia.pl\" title=\"Gry na telefon i tablet\" class=\"blank\">Gry na telefon i tablet</a></li>\\n</ul>\\t<div class=\"clear\"></div>\\r\\n    </div>\\r\\n    <div class=\"left-box-bottom\"></div> <!-- end polecamy -->\\r\\n\\r\\n</div> <!-- end left-column -->\\r\\n        <div class=\"right-column\"> <!-- right column -->\\n\\n            <div class=\"belka short\">\\n                    <div class=\"belka-left\"></div>\\n                    <div class=\"belka-right\"></div>\\n\\n                    <strong>\\xc5\\x81zy <span>(Utwor\\xc3\\xb3w: 112)</span></strong>\\n\\n                    <a href=\"/wykonawca,Lzy.html\" class=\"link-wykonawca\" title=\"Przejd\\xc5\\xba na stron\\xc4\\x99 wykonawcy &gt;\">Przejd\\xc5\\xba na stron\\xc4\\x99 wykonawcy &gt;</a>\\n                </div>\\n\\n\\n            <div class=\"adv-pion\"> <!-- reklama pion -->\\n                    \\t     \\n    \\n<script async src=\"//pagead2.googlesyndication.com/pagead/js/adsbygoogle.js\"></script>\\n<!-- tekstowo_sky_160 -->\\n<ins class=\"adsbygoogle\"\\n     style=\"display:inline-block;width:160px;height:600px\"\\n     data-ad-client=\"ca-pub-2928768942561568\"\\n     data-ad-slot=\"9163702539\"></ins>\\n<script>\\n(adsbygoogle = window.adsbygoogle || []).push({});\\n</script>\\n            </div> <!-- end reklama pion -->\\n\\n            <div class=\"content\">\\n                \\n                    \\n        <div class=\"padding\">\\n    \\t\\n        \\t\\t<strong class=\"nav\">1</strong>\\n\\t    \\t\\n        \\t\\t\\t\\t                  <a href=\"/piosenki_artysty,lzy,alfabetycznie,strona,2.html\" class=\"page\" title=\"2\">2</a>\\n\\t\\t  \\t\\t            \\t\\n        \\t\\t\\t\\t                  <a href=\"/piosenki_artysty,lzy,alfabetycznie,strona,3.html\" class=\"page\" title=\"3\">3</a>\\n\\t\\t  \\t\\t            \\t\\n        \\t\\t\\t\\t                  <a href=\"/piosenki_artysty,lzy,alfabetycznie,strona,4.html\" class=\"page\" title=\"4\">4</a>\\n\\t\\t  \\t\\t            \\t\\n        \\t\\t\\t\\t                  <a href=\"/piosenki_artysty,lzy,alfabetycznie,strona,2.html\" title=\"Nast\\xc4\\x99pna &gt;&gt;\">Nast\\xc4\\x99pna &gt;&gt;</a>\\n\\t\\t  \\t\\t                </div>\\n                                            <div class=\"box-przeboje sort\">\\n                    Sortuj:\\n                        <a class=\"active\" href=\"/piosenki_artysty,lzy,alfabetycznie,strona,1.html\" title=\"sortuj alfabetycznie\">alfabetycznie</a>&nbsp;|&nbsp;   \\n                                            \\n                                                <a  href=\"/piosenki_artysty,lzy,popularne,malejaco,strona,1.html\" title=\"sortuj wg popularno\\xc5\\x9bci\">wg popularno\\xc5\\x9bci</a>&nbsp;|&nbsp;   \\n                    \\n                                                <a  href=\"/piosenki_artysty,lzy,najlepsze,malejaco,strona,1.html\" title=\"sortuj wg rankingu\">wg rankingu</a>&nbsp;|&nbsp;\\n                        \\n                        <a  href=\"/piosenki_artysty,lzy,data,malejaco,strona,1.html\" title=\"sortuj wg daty dodania\">wg daty</a>\\n\\n                                     </div>\\n                    <div class=\"ranking-lista\">\\n                    \\t\\t\\t<div class=\"box-przeboje\">\\n\\t\\t\\t                                                        <b>1.</b> <a href=\"/piosenka,Lzy,7_stop_pod_ziemia.html\" class=\"title\" title=\"\\xc5\\x81zy - 7 st\\xc3\\xb3p pod ziemi\\xc4\\x85\">\\xc5\\x81zy - 7 st\\xc3\\xb3p pod ziemi\\xc4\\x85 </a>\\n                            <a rel=\"loginbox\" title=\"ranking +\" href=\"javascript:ajxRankSong(\\'Up\\',443485);\" class=\"na-plus song-rank443485\"></a><a rel=\"loginbox\" title=\"ranking -\" href=\"javascript:ajxRankSong(\\'Down\\', 443485);\" class=\"na-minus song-rank443485\"></a>\\n                            <span id=\"rank443485\" class=\"rank\">(+20)</span>\\n                            <b title=\"teledysk\" class=\"icon_kamera\"></b><b title=\"t\\xc5\\x82umaczenie\" class=\"icon_pl\"></b>                    </div>\\n\\t\\t    \\t\\t\\t<div class=\"box-przeboje\">\\n\\t\\t\\t                                                        <b>2.</b> <a href=\"/piosenka,Lzy,agnieszka.html\" class=\"title\" title=\"\\xc5\\x81zy - Agnieszka\">\\xc5\\x81zy - Agnieszka </a>\\n                            <a rel=\"loginbox\" title=\"ranking +\" href=\"javascript:ajxRankSong(\\'Up\\',7691);\" class=\"na-plus song-rank7691\"></a><a rel=\"loginbox\" title=\"ranking -\" href=\"javascript:ajxRankSong(\\'Down\\', 7691);\" class=\"na-minus song-rank7691\"></a>\\n                            <span id=\"rank7691\" class=\"rank\">(+192)</span>\\n                            <b title=\"teledysk\" class=\"icon_kamera\"></b><b title=\"t\\xc5\\x82umaczenie\" class=\"icon_pl\"></b>                    </div>\\n\\t\\t    \\t\\t\\t<div class=\"box-przeboje\">\\n\\t\\t\\t                                                        <b>3.</b> <a href=\"/piosenka,Lzy,anastazja_jestem.html\" class=\"title\" title=\"\\xc5\\x81zy - Anastazja jestem\">\\xc5\\x81zy - Anastazja jestem </a>\\n                            <a rel=\"loginbox\" title=\"ranking +\" href=\"javascript:ajxRankSong(\\'Up\\',9417);\" class=\"na-plus song-rank9417\"></a><a rel=\"loginbox\" title=\"ranking -\" href=\"javascript:ajxRankSong(\\'Down\\', 9417);\" class=\"na-minus song-rank9417\"></a>\\n                            <span id=\"rank9417\" class=\"rank\">(+127)</span>\\n                            <b title=\"teledysk\" class=\"icon_kamera\"></b><b title=\"t\\xc5\\x82umaczenie\" class=\"icon_pl\"></b>                    </div>\\n\\t\\t    \\t\\t\\t<div class=\"box-przeboje\">\\n\\t\\t\\t                                                        <b>4.</b> <a href=\"/piosenka,Lzy,aniele_moj.html\" class=\"title\" title=\"\\xc5\\x81zy - Aniele m\\xc3\\xb3j\">\\xc5\\x81zy - Aniele m\\xc3\\xb3j </a>\\n                            <a rel=\"loginbox\" title=\"ranking +\" href=\"javascript:ajxRankSong(\\'Up\\',25638);\" class=\"na-plus song-rank25638\"></a><a rel=\"loginbox\" title=\"ranking -\" href=\"javascript:ajxRankSong(\\'Down\\', 25638);\" class=\"na-minus song-rank25638\"></a>\\n                            <span id=\"rank25638\" class=\"rank\">(+50)</span>\\n                            <b title=\"teledysk\" class=\"icon_kamera\"></b><b title=\"t\\xc5\\x82umaczenie\" class=\"icon_pl\"></b>                    </div>\\n\\t\\t    \\t\\t\\t<div class=\"box-przeboje\">\\n\\t\\t\\t                                                        <b>5.</b> <a href=\"/piosenka,Lzy,anka__ot_tak.html\" class=\"title\" title=\"\\xc5\\x81zy - Anka, ot tak\">\\xc5\\x81zy - Anka, ot tak </a>\\n                            <a rel=\"loginbox\" title=\"ranking +\" href=\"javascript:ajxRankSong(\\'Up\\',7717);\" class=\"na-plus song-rank7717\"></a><a rel=\"loginbox\" title=\"ranking -\" href=\"javascript:ajxRankSong(\\'Down\\', 7717);\" class=\"na-minus song-rank7717\"></a>\\n                            <span id=\"rank7717\" class=\"rank\">(+77)</span>\\n                            <b title=\"teledysk\" class=\"icon_kamera\"></b><b title=\"t\\xc5\\x82umaczenie\" class=\"icon_pl\"></b>                    </div>\\n\\t\\t    \\t\\t\\t<div class=\"box-przeboje\">\\n\\t\\t\\t                                                        <b>6.</b> <a href=\"/piosenka,Lzy,bez_sensu_niewazne.html\" class=\"title\" title=\"\\xc5\\x81zy - Bez sensu niewa\\xc5\\xbcne\">\\xc5\\x81zy - Bez sensu niewa\\xc5\\xbcne </a>\\n                            <a rel=\"loginbox\" title=\"ranking +\" href=\"javascript:ajxRankSong(\\'Up\\',9154);\" class=\"na-plus song-rank9154\"></a><a rel=\"loginbox\" title=\"ranking -\" href=\"javascript:ajxRankSong(\\'Down\\', 9154);\" class=\"na-minus song-rank9154\"></a>\\n                            <span id=\"rank9154\" class=\"rank\">(+10)</span>\\n                            <b title=\"teledysk\" class=\"icon_kamera\"></b><b title=\"t\\xc5\\x82umaczenie\" class=\"icon_pl\"></b>                    </div>\\n\\t\\t    \\t\\t\\t<div class=\"box-przeboje\">\\n\\t\\t\\t                                                        <b>7.</b> <a href=\"/piosenka,Lzy,bo_kazdej_nocy.html\" class=\"title\" title=\"\\xc5\\x81zy - Bo ka\\xc5\\xbcdej nocy\">\\xc5\\x81zy - Bo ka\\xc5\\xbcdej nocy </a>\\n                            <a rel=\"loginbox\" title=\"ranking +\" href=\"javascript:ajxRankSong(\\'Up\\',445338);\" class=\"na-plus song-rank445338\"></a><a rel=\"loginbox\" title=\"ranking -\" href=\"javascript:ajxRankSong(\\'Down\\', 445338);\" class=\"na-minus song-rank445338\"></a>\\n                            <span id=\"rank445338\" class=\"rank\">(+55)</span>\\n                            <b title=\"teledysk\" class=\"icon_kamera\"></b><b title=\"t\\xc5\\x82umaczenie\" class=\"icon_pl\"></b>                    </div>\\n\\t\\t    \\t\\t\\t<div class=\"box-przeboje\">\\n\\t\\t\\t                                                        <b>8.</b> <a href=\"/piosenka,Lzy,bonus.html\" class=\"title\" title=\"\\xc5\\x81zy - Bonus\">\\xc5\\x81zy - Bonus </a>\\n                            <a rel=\"loginbox\" title=\"ranking +\" href=\"javascript:ajxRankSong(\\'Up\\',35826);\" class=\"na-plus song-rank35826\"></a><a rel=\"loginbox\" title=\"ranking -\" href=\"javascript:ajxRankSong(\\'Down\\', 35826);\" class=\"na-minus song-rank35826\"></a>\\n                            <span id=\"rank35826\" class=\"rank\">(+7)</span>\\n                            <b title=\"teledysk\" class=\"icon_kamera\"></b>                    </div>\\n\\t\\t    \\t\\t\\t<div class=\"box-przeboje\">\\n\\t\\t\\t                                                        <b>9.</b> <a href=\"/piosenka,Lzy,bog_ukaral_nas.html\" class=\"title\" title=\"\\xc5\\x81zy - B\\xc3\\xb3g ukara\\xc5\\x82 nas\">\\xc5\\x81zy - B\\xc3\\xb3g ukara\\xc5\\x82 nas </a>\\n                            <a rel=\"loginbox\" title=\"ranking +\" href=\"javascript:ajxRankSong(\\'Up\\',946876);\" class=\"na-plus song-rank946876\"></a><a rel=\"loginbox\" title=\"ranking -\" href=\"javascript:ajxRankSong(\\'Down\\', 946876);\" class=\"na-minus song-rank946876\"></a>\\n                            <span id=\"rank946876\" class=\"rank\">(+1)</span>\\n                            <b title=\"teledysk\" class=\"icon_kamera\"></b>                    </div>\\n\\t\\t    \\t\\t\\t<div class=\"box-przeboje\">\\n\\t\\t\\t                                                        <b>10.</b> <a href=\"/piosenka,Lzy,cala_soba.html\" class=\"title\" title=\"\\xc5\\x81zy - Ca\\xc5\\x82\\xc4\\x85 sob\\xc4\\x85\">\\xc5\\x81zy - Ca\\xc5\\x82\\xc4\\x85 sob\\xc4\\x85 </a>\\n                            <a rel=\"loginbox\" title=\"ranking +\" href=\"javascript:ajxRankSong(\\'Up\\',48653);\" class=\"na-plus song-rank48653\"></a><a rel=\"loginbox\" title=\"ranking -\" href=\"javascript:ajxRankSong(\\'Down\\', 48653);\" class=\"na-minus song-rank48653\"></a>\\n                            <span id=\"rank48653\" class=\"rank\">(+17)</span>\\n                            <b title=\"teledysk\" class=\"icon_kamera\"></b><b title=\"t\\xc5\\x82umaczenie\" class=\"icon_pl\"></b>                    </div>\\n\\t\\t    \\t\\t\\t<div class=\"box-przeboje\">\\n\\t\\t\\t                                                        <b>11.</b> <a href=\"/piosenka,Lzy,chcialabym.html\" class=\"title\" title=\"\\xc5\\x81zy - Chcia\\xc5\\x82abym\">\\xc5\\x81zy - Chcia\\xc5\\x82abym </a>\\n                            <a rel=\"loginbox\" title=\"ranking +\" href=\"javascript:ajxRankSong(\\'Up\\',33330);\" class=\"na-plus song-rank33330\"></a><a rel=\"loginbox\" title=\"ranking -\" href=\"javascript:ajxRankSong(\\'Down\\', 33330);\" class=\"na-minus song-rank33330\"></a>\\n                            <span id=\"rank33330\" class=\"rank\">(+8)</span>\\n                            <b title=\"teledysk\" class=\"icon_kamera\"></b><b title=\"t\\xc5\\x82umaczenie\" class=\"icon_pl\"></b>                    </div>\\n\\t\\t    \\t\\t\\t<div class=\"box-przeboje\">\\n\\t\\t\\t                                                        <b>12.</b> <a href=\"/piosenka,Lzy,chod__wszyscy_zaplacza__to_nic_sie_nie_zmieni.html\" class=\"title\" title=\"\\xc5\\x81zy - Chod\\xc5\\xba wszyscy zap\\xc5\\x82acz\\xc4\\x85, to nic si\\xc4\\x99 nie zmieni\">\\xc5\\x81zy - Chod\\xc5\\xba wszyscy zap\\xc5\\x82acz\\xc4\\x85, to nic si\\xc4\\x99 nie zmieni </a>\\n                            <a rel=\"loginbox\" title=\"ranking +\" href=\"javascript:ajxRankSong(\\'Up\\',250697);\" class=\"na-plus song-rank250697\"></a><a rel=\"loginbox\" title=\"ranking -\" href=\"javascript:ajxRankSong(\\'Down\\', 250697);\" class=\"na-minus song-rank250697\"></a>\\n                            <span id=\"rank250697\" class=\"rank\">(+14)</span>\\n                            <b title=\"teledysk\" class=\"icon_kamera\"></b><b title=\"t\\xc5\\x82umaczenie\" class=\"icon_pl\"></b>                    </div>\\n\\t\\t    \\t\\t\\t<div class=\"box-przeboje\">\\n\\t\\t\\t                                                        <b>13.</b> <a href=\"/piosenka,Lzy,ciszej__ciemniej.html\" class=\"title\" title=\"\\xc5\\x81zy - Ciszej, ciemniej\">\\xc5\\x81zy - Ciszej, ciemniej </a>\\n                            <a rel=\"loginbox\" title=\"ranking +\" href=\"javascript:ajxRankSong(\\'Up\\',9155);\" class=\"na-plus song-rank9155\"></a><a rel=\"loginbox\" title=\"ranking -\" href=\"javascript:ajxRankSong(\\'Down\\', 9155);\" class=\"na-minus song-rank9155\"></a>\\n                            <span id=\"rank9155\" class=\"rank\">(+16)</span>\\n                            <b title=\"teledysk\" class=\"icon_kamera\"></b>                    </div>\\n\\t\\t    \\t\\t\\t<div class=\"box-przeboje\">\\n\\t\\t\\t                                                        <b>14.</b> <a href=\"/piosenka,Lzy,czarna_magia.html\" class=\"title\" title=\"\\xc5\\x81zy - Czarna magia\">\\xc5\\x81zy - Czarna magia </a>\\n                            <a rel=\"loginbox\" title=\"ranking +\" href=\"javascript:ajxRankSong(\\'Up\\',33331);\" class=\"na-plus song-rank33331\"></a><a rel=\"loginbox\" title=\"ranking -\" href=\"javascript:ajxRankSong(\\'Down\\', 33331);\" class=\"na-minus song-rank33331\"></a>\\n                            <span id=\"rank33331\" class=\"rank\">(+15)</span>\\n                            <b title=\"teledysk\" class=\"icon_kamera\"></b>                    </div>\\n\\t\\t    \\t\\t\\t<div class=\"box-przeboje\">\\n\\t\\t\\t                                                        <b>15.</b> <a href=\"/piosenka,Lzy,czasami__ot_tak.html\" class=\"title\" title=\"\\xc5\\x81zy - Czasami, ot tak\">\\xc5\\x81zy - Czasami, ot tak </a>\\n                            <a rel=\"loginbox\" title=\"ranking +\" href=\"javascript:ajxRankSong(\\'Up\\',9156);\" class=\"na-plus song-rank9156\"></a><a rel=\"loginbox\" title=\"ranking -\" href=\"javascript:ajxRankSong(\\'Down\\', 9156);\" class=\"na-minus song-rank9156\"></a>\\n                            <span id=\"rank9156\" class=\"rank\">(+23)</span>\\n                            <b title=\"teledysk\" class=\"icon_kamera\"></b><b title=\"t\\xc5\\x82umaczenie\" class=\"icon_pl\"></b>                    </div>\\n\\t\\t    \\t\\t\\t<div class=\"box-przeboje\">\\n\\t\\t\\t                                                        <b>16.</b> <a href=\"/piosenka,Lzy,czekam_na_nasz_koniec_swiata.html\" class=\"title\" title=\"\\xc5\\x81zy - Czekam na nasz koniec \\xc5\\x9bwiata\">\\xc5\\x81zy - Czekam na nasz koniec \\xc5\\x9bwiata </a>\\n                            <a rel=\"loginbox\" title=\"ranking +\" href=\"javascript:ajxRankSong(\\'Up\\',1006225);\" class=\"na-plus song-rank1006225\"></a><a rel=\"loginbox\" title=\"ranking -\" href=\"javascript:ajxRankSong(\\'Down\\', 1006225);\" class=\"na-minus song-rank1006225\"></a>\\n                            <span id=\"rank1006225\" class=\"rank\">(0)</span>\\n                            <b title=\"teledysk\" class=\"icon_kamera\"></b>                    </div>\\n\\t\\t    \\t\\t\\t<div class=\"box-przeboje\">\\n\\t\\t\\t                                                        <b>17.</b> <a href=\"/piosenka,Lzy,czekam_tyle_dni.html\" class=\"title\" title=\"\\xc5\\x81zy - Czekam tyle dni\">\\xc5\\x81zy - Czekam tyle dni </a>\\n                            <a rel=\"loginbox\" title=\"ranking +\" href=\"javascript:ajxRankSong(\\'Up\\',452977);\" class=\"na-plus song-rank452977\"></a><a rel=\"loginbox\" title=\"ranking -\" href=\"javascript:ajxRankSong(\\'Down\\', 452977);\" class=\"na-minus song-rank452977\"></a>\\n                            <span id=\"rank452977\" class=\"rank\">(+11)</span>\\n                            <b title=\"teledysk\" class=\"icon_kamera\"></b><b title=\"t\\xc5\\x82umaczenie\" class=\"icon_pl\"></b>                    </div>\\n\\t\\t    \\t\\t\\t<div class=\"box-przeboje\">\\n\\t\\t\\t                                                        <b>18.</b> <a href=\"/piosenka,Lzy,czy_jeszcze_kochasz_mnie.html\" class=\"title\" title=\"\\xc5\\x81zy - Czy jeszcze kochasz mnie\">\\xc5\\x81zy - Czy jeszcze kochasz mnie </a>\\n                            <a rel=\"loginbox\" title=\"ranking +\" href=\"javascript:ajxRankSong(\\'Up\\',443970);\" class=\"na-plus song-rank443970\"></a><a rel=\"loginbox\" title=\"ranking -\" href=\"javascript:ajxRankSong(\\'Down\\', 443970);\" class=\"na-minus song-rank443970\"></a>\\n                            <span id=\"rank443970\" class=\"rank\">(+7)</span>\\n                            <b title=\"teledysk\" class=\"icon_kamera\"></b>                    </div>\\n\\t\\t    \\t\\t\\t<div class=\"box-przeboje\">\\n\\t\\t\\t                                                        <b>19.</b> <a href=\"/piosenka,Lzy,czy_mozesz_to_dla_mnie_zrobic.html\" class=\"title\" title=\"\\xc5\\x81zy - Czy mo\\xc5\\xbcesz to dla mnie zrobi\\xc4\\x87\">\\xc5\\x81zy - Czy mo\\xc5\\xbcesz to dla mnie zrobi\\xc4\\x87 </a>\\n                            <a rel=\"loginbox\" title=\"ranking +\" href=\"javascript:ajxRankSong(\\'Up\\',1351987);\" class=\"na-plus song-rank1351987\"></a><a rel=\"loginbox\" title=\"ranking -\" href=\"javascript:ajxRankSong(\\'Down\\', 1351987);\" class=\"na-minus song-rank1351987\"></a>\\n                            <span id=\"rank1351987\" class=\"rank\">(0)</span>\\n                            <b title=\"teledysk\" class=\"icon_kamera\"></b>                    </div>\\n\\t\\t    \\t\\t\\t<div class=\"box-przeboje\">\\n\\t\\t\\t                                                        <b>20.</b> <a href=\"/piosenka,Lzy,czy_to_grzech.html\" class=\"title\" title=\"\\xc5\\x81zy - Czy to grzech\">\\xc5\\x81zy - Czy to grzech </a>\\n                            <a rel=\"loginbox\" title=\"ranking +\" href=\"javascript:ajxRankSong(\\'Up\\',9157);\" class=\"na-plus song-rank9157\"></a><a rel=\"loginbox\" title=\"ranking -\" href=\"javascript:ajxRankSong(\\'Down\\', 9157);\" class=\"na-minus song-rank9157\"></a>\\n                            <span id=\"rank9157\" class=\"rank\">(+14)</span>\\n                            <b title=\"teledysk\" class=\"icon_kamera\"></b><b title=\"t\\xc5\\x82umaczenie\" class=\"icon_pl\"></b>                    </div>\\n\\t\\t    \\t\\t\\t<div class=\"box-przeboje\">\\n\\t\\t\\t                                                        <b>21.</b> <a href=\"/piosenka,Lzy,dla_milosci_warto.html\" class=\"title\" title=\"\\xc5\\x81zy - Dla mi\\xc5\\x82o\\xc5\\x9bci warto\">\\xc5\\x81zy - Dla mi\\xc5\\x82o\\xc5\\x9bci warto </a>\\n                            <a rel=\"loginbox\" title=\"ranking +\" href=\"javascript:ajxRankSong(\\'Up\\',9158);\" class=\"na-plus song-rank9158\"></a><a rel=\"loginbox\" title=\"ranking -\" href=\"javascript:ajxRankSong(\\'Down\\', 9158);\" class=\"na-minus song-rank9158\"></a>\\n                            <span id=\"rank9158\" class=\"rank\">(+13)</span>\\n                            <b title=\"teledysk\" class=\"icon_kamera\"></b><b title=\"t\\xc5\\x82umaczenie\" class=\"icon_pl\"></b>                    </div>\\n\\t\\t    \\t\\t\\t<div class=\"box-przeboje\">\\n\\t\\t\\t                                                        <b>22.</b> <a href=\"/piosenka,Lzy,do_zakochania_jeden_krok.html\" class=\"title\" title=\"\\xc5\\x81zy - Do zakochania jeden krok\">\\xc5\\x81zy - Do zakochania jeden krok </a>\\n                            <a rel=\"loginbox\" title=\"ranking +\" href=\"javascript:ajxRankSong(\\'Up\\',33332);\" class=\"na-plus song-rank33332\"></a><a rel=\"loginbox\" title=\"ranking -\" href=\"javascript:ajxRankSong(\\'Down\\', 33332);\" class=\"na-minus song-rank33332\"></a>\\n                            <span id=\"rank33332\" class=\"rank\">(+12)</span>\\n                            <b title=\"teledysk\" class=\"icon_kamera\"></b>                    </div>\\n\\t\\t    \\t\\t\\t<div class=\"box-przeboje\">\\n\\t\\t\\t                                                        <b>23.</b> <a href=\"/piosenka,Lzy,dzis_bedziesz_moj.html\" class=\"title\" title=\"\\xc5\\x81zy - Dzi\\xc5\\x9b b\\xc4\\x99dziesz m\\xc3\\xb3j\">\\xc5\\x81zy - Dzi\\xc5\\x9b b\\xc4\\x99dziesz m\\xc3\\xb3j </a>\\n                            <a rel=\"loginbox\" title=\"ranking +\" href=\"javascript:ajxRankSong(\\'Up\\',9159);\" class=\"na-plus song-rank9159\"></a><a rel=\"loginbox\" title=\"ranking -\" href=\"javascript:ajxRankSong(\\'Down\\', 9159);\" class=\"na-minus song-rank9159\"></a>\\n                            <span id=\"rank9159\" class=\"rank\">(+14)</span>\\n                            <b title=\"teledysk\" class=\"icon_kamera\"></b><b title=\"t\\xc5\\x82umaczenie\" class=\"icon_pl\"></b>                    </div>\\n\\t\\t    \\t\\t\\t<div class=\"box-przeboje\">\\n\\t\\t\\t                                                        <b>24.</b> <a href=\"/piosenka,Lzy,emmanuelle_noire.html\" class=\"title\" title=\"\\xc5\\x81zy - Emmanuelle noire\">\\xc5\\x81zy - Emmanuelle noire </a>\\n                            <a rel=\"loginbox\" title=\"ranking +\" href=\"javascript:ajxRankSong(\\'Up\\',9161);\" class=\"na-plus song-rank9161\"></a><a rel=\"loginbox\" title=\"ranking -\" href=\"javascript:ajxRankSong(\\'Down\\', 9161);\" class=\"na-minus song-rank9161\"></a>\\n                            <span id=\"rank9161\" class=\"rank\">(+7)</span>\\n                            <b title=\"teledysk\" class=\"icon_kamera\"></b>                    </div>\\n\\t\\t    \\t\\t\\t<div class=\"box-przeboje\">\\n\\t\\t\\t                                                        <b>25.</b> <a href=\"/piosenka,Lzy,gdy_na_was_patrze.html\" class=\"title\" title=\"\\xc5\\x81zy - Gdy na was patrz\\xc4\\x99\">\\xc5\\x81zy - Gdy na was patrz\\xc4\\x99 </a>\\n                            <a rel=\"loginbox\" title=\"ranking +\" href=\"javascript:ajxRankSong(\\'Up\\',9162);\" class=\"na-plus song-rank9162\"></a><a rel=\"loginbox\" title=\"ranking -\" href=\"javascript:ajxRankSong(\\'Down\\', 9162);\" class=\"na-minus song-rank9162\"></a>\\n                            <span id=\"rank9162\" class=\"rank\">(+23)</span>\\n                            <b title=\"teledysk\" class=\"icon_kamera\"></b>                    </div>\\n\\t\\t    \\t\\t\\t<div class=\"box-przeboje\">\\n\\t\\t\\t                                                        <b>26.</b> <a href=\"/piosenka,Lzy,gdybys_byl.html\" class=\"title\" title=\"\\xc5\\x81zy - Gdyby\\xc5\\x9b by\\xc5\\x82\">\\xc5\\x81zy - Gdyby\\xc5\\x9b by\\xc5\\x82 </a>\\n                            <a rel=\"loginbox\" title=\"ranking +\" href=\"javascript:ajxRankSong(\\'Up\\',23616);\" class=\"na-plus song-rank23616\"></a><a rel=\"loginbox\" title=\"ranking -\" href=\"javascript:ajxRankSong(\\'Down\\', 23616);\" class=\"na-minus song-rank23616\"></a>\\n                            <span id=\"rank23616\" class=\"rank\">(+92)</span>\\n                            <b title=\"teledysk\" class=\"icon_kamera\"></b><b title=\"t\\xc5\\x82umaczenie\" class=\"icon_pl\"></b>                    </div>\\n\\t\\t    \\t\\t\\t<div class=\"box-przeboje\">\\n\\t\\t\\t                                                        <b>27.</b> <a href=\"/piosenka,Lzy,historia_z_ksiazki_mej.html\" class=\"title\" title=\"\\xc5\\x81zy - Historia z ksi\\xc4\\x85\\xc5\\xbcki mej\">\\xc5\\x81zy - Historia z ksi\\xc4\\x85\\xc5\\xbcki mej </a>\\n                            <a rel=\"loginbox\" title=\"ranking +\" href=\"javascript:ajxRankSong(\\'Up\\',952210);\" class=\"na-plus song-rank952210\"></a><a rel=\"loginbox\" title=\"ranking -\" href=\"javascript:ajxRankSong(\\'Down\\', 952210);\" class=\"na-minus song-rank952210\"></a>\\n                            <span id=\"rank952210\" class=\"rank\">(+8)</span>\\n                            <b title=\"teledysk\" class=\"icon_kamera\"></b><b title=\"t\\xc5\\x82umaczenie\" class=\"icon_pl\"></b>                    </div>\\n\\t\\t    \\t\\t\\t<div class=\"box-przeboje\">\\n\\t\\t\\t                                                        <b>28.</b> <a href=\"/piosenka,Lzy,imagine.html\" class=\"title\" title=\"\\xc5\\x81zy - Imagine\">\\xc5\\x81zy - Imagine </a>\\n                            <a rel=\"loginbox\" title=\"ranking +\" href=\"javascript:ajxRankSong(\\'Up\\',247589);\" class=\"na-plus song-rank247589\"></a><a rel=\"loginbox\" title=\"ranking -\" href=\"javascript:ajxRankSong(\\'Down\\', 247589);\" class=\"na-minus song-rank247589\"></a>\\n                            <span id=\"rank247589\" class=\"rank\">(+8)</span>\\n                            <b title=\"teledysk\" class=\"icon_kamera\"></b><b title=\"t\\xc5\\x82umaczenie\" class=\"icon_pl\"></b>                    </div>\\n\\t\\t    \\t\\t\\t<div class=\"box-przeboje\">\\n\\t\\t\\t                                                        <b>29.</b> <a href=\"/piosenka,Lzy,ja_nie_lubie_nikogo.html\" class=\"title\" title=\"\\xc5\\x81zy - Ja nie lubi\\xc4\\x99 nikogo\">\\xc5\\x81zy - Ja nie lubi\\xc4\\x99 nikogo </a>\\n                            <a rel=\"loginbox\" title=\"ranking +\" href=\"javascript:ajxRankSong(\\'Up\\',9163);\" class=\"na-plus song-rank9163\"></a><a rel=\"loginbox\" title=\"ranking -\" href=\"javascript:ajxRankSong(\\'Down\\', 9163);\" class=\"na-minus song-rank9163\"></a>\\n                            <span id=\"rank9163\" class=\"rank\">(+32)</span>\\n                            <b title=\"teledysk\" class=\"icon_kamera\"></b><b title=\"t\\xc5\\x82umaczenie\" class=\"icon_pl\"></b>                    </div>\\n\\t\\t    \\t\\t\\t<div class=\"box-przeboje\">\\n\\t\\t\\t                                                        <b>30.</b> <a href=\"/piosenka,Lzy,ja_samotna.html\" class=\"title\" title=\"\\xc5\\x81zy - Ja samotna\">\\xc5\\x81zy - Ja samotna </a>\\n                            <a rel=\"loginbox\" title=\"ranking +\" href=\"javascript:ajxRankSong(\\'Up\\',9164);\" class=\"na-plus song-rank9164\"></a><a rel=\"loginbox\" title=\"ranking -\" href=\"javascript:ajxRankSong(\\'Down\\', 9164);\" class=\"na-minus song-rank9164\"></a>\\n                            <span id=\"rank9164\" class=\"rank\">(+22)</span>\\n                            <b title=\"teledysk\" class=\"icon_kamera\"></b><b title=\"t\\xc5\\x82umaczenie\" class=\"icon_pl\"></b>                    </div>\\n\\t\\t                        </div>\\n\\n                    \\n        <div class=\"padding\">\\n    \\t\\n        \\t\\t<strong class=\"nav\">1</strong>\\n\\t    \\t\\n        \\t\\t\\t\\t                  <a href=\"/piosenki_artysty,lzy,alfabetycznie,strona,2.html\" class=\"page\" title=\"2\">2</a>\\n\\t\\t  \\t\\t            \\t\\n        \\t\\t\\t\\t                  <a href=\"/piosenki_artysty,lzy,alfabetycznie,strona,3.html\" class=\"page\" title=\"3\">3</a>\\n\\t\\t  \\t\\t            \\t\\n        \\t\\t\\t\\t                  <a href=\"/piosenki_artysty,lzy,alfabetycznie,strona,4.html\" class=\"page\" title=\"4\">4</a>\\n\\t\\t  \\t\\t            \\t\\n        \\t\\t\\t\\t                  <a href=\"/piosenki_artysty,lzy,alfabetycznie,strona,2.html\" title=\"Nast\\xc4\\x99pna &gt;&gt;\">Nast\\xc4\\x99pna &gt;&gt;</a>\\n\\t\\t  \\t\\t                </div>\\n                                    \\n                \\n            </div>\\n\\n\\n        </div> <!-- end right column -->\\n\\n        <div class=\"clear\"></div>\\r\\n    </div> <!-- end center -->\\r\\n<div class=\"clear\"></div>\\r\\n</div> <!-- end container -->\\r\\n\\r\\n\\r\\n\\r\\n\\t<div class=\"generic_dialog\" id=\"fb-modal\">\\n<div class=\"generic_dialog_popup\" style=\"top: 125px;\">\\n\\t<table class=\"pop_dialog_table\" id=\"pop_dialog_table\" style=\"width: 532px;\">\\n\\t\\t<tbody>\\n\\t\\t\\t<tr>\\n\\t\\t\\t\\t<td class=\"pop_topleft\"></td>\\n\\t\\t\\t\\t<td class=\"pop_border pop_top\"></td>\\n\\t\\t\\t\\t<td class=\"pop_topright\"></td>\\n\\t\\t\\t</tr>\\n\\n\\t\\t\\t<tr>\\n\\t\\t\\t\\t<td class=\"pop_border pop_side\"></td>\\n\\t\\t\\t\\t<td id=\"pop_content\" class=\"pop_content\">\\n\\t\\t\\t\\t\\t<h2 class=\"dialog_title\"><span></span></h2>\\n\\t\\t\\t\\t\\t<div class=\"dialog_content\">\\n\\t\\t\\t\\t\\t\\t<p id=\"modal-p\"></p>\\n\\t\\t\\t\\t\\t\\t<div class=\"dialog_buttons\">\\n\\t\\t\\t\\t\\t\\t\\t<input type=\"button\" value=\"Zamknij\" name=\"close\" class=\"inputsubmit\" id=\"fb-close\" />\\n\\t\\t\\t\\t\\t\\t</div>\\n\\t\\t\\t\\t\\t</div>\\n\\t\\t\\t\\t</td>\\n\\t\\t\\t\\t<td class=\"pop_border pop_side\"></td>\\n\\t\\t\\t</tr>\\n\\t\\t\\t<tr>\\n\\t\\t\\t\\t<td class=\"pop_bottomleft\"></td>\\n\\t\\t\\t\\t<td class=\"pop_border pop_bottom\"></td>\\n\\t\\t\\t\\t<td class=\"pop_bottomright\"></td>\\n\\n\\t\\t\\t</tr>\\n\\t\\t</tbody>\\n\\t</table>\\n</div>\\n</div>\\t<div id=\"login-modal\">\\r\\n    <div style=\"position: relative\">\\r\\n\\t<a id=\"yt-close\" href=\"javascript:modalFadeOut();\" title=\"Zamknij\" style=\"position: absolute; right: 0;\">Zamknij</a>\\r\\n    </div>\\r\\n    <div class=\"login_box\">\\r\\n\\t<img src=\"/static/images/logo.gif\" alt=\"\" width=\"240\" height=\"81\"/>\\r\\n\\t<form action=\"\" onsubmit=\"ajxLogin();\\r\\n\\t\\treturn false;\" method=\"post\">\\r\\n\\t    <fieldset class=\"login rejestracja edycja okienko\">\\r\\n\\r\\n\\t\\t<div class=\"formRow komunikat\" style=\"text-align: center\">\\r\\n\\t\\t    Aby wykona\\xc4\\x87 t\\xc4\\x99 operacj\\xc4\\x99 nale\\xc5\\xbcy si\\xc4\\x99 zalogowa\\xc4\\x87:\\r\\n\\t\\t</div>\\r\\n\\t\\t<div class=\"l-box\">\\r\\n\\t\\t    <div class=\"formRow\">\\r\\n\\t\\t\\tZaloguj si\\xc4\\x99 przy u\\xc5\\xbcyciu loginu i has\\xc5\\x82a Tekstowa:\\r\\n\\t\\t\\t<br>\\r\\n\\t\\t\\t<a class=\"green-button\" href=\"https://www.tekstowo.pl/logowanie.html\">Zaloguj</a>\\r\\n\\t\\t\\t<br>\\r\\n\\t\\t\\t<a href=\"/rejestracja.html\" class=\"green underline bold\" title=\"Rejestracja\">Rejestracja</a>\\r\\n\\t\\t\\t<br>\\r\\n\\t\\t\\t<a href=\"/przypomnij.html\" class=\"green underline bold marginl10\" title=\"Przypomnienie has\\xc5\\x82a\">Przypomnienie has\\xc5\\x82a</a>\\r\\n\\t\\t    </div>\\r\\n\\t\\t</div>\\r\\n\\r\\n\\t\\t<div class=\"fb-box\">Lub skorzystaj z opcji zalogowania si\\xc4\\x99 za pomoc\\xc4\\x85 Facebooka: \\r\\n\\t\\t    <a href=\"javascript:;\" class=\"fb-button my-fb-login-button\" title=\"Zaloguj si\\xc4\\x99 z Facebookiem\"></a>\\r\\n\\t\\t</div>\\r\\n\\r\\n\\t    </fieldset>\\r\\n\\t</form>\\r\\n    </div>\\r\\n</div>\\r\\t\\r\\n\\r\\n\\r\\n<div id=\"bottom\">\\r\\n    <div id=\"stopka\">\\r\\n\\r\\n\\t         <div class=\"adv-bottom\">\\n                                \\n\\n\\t</div>\\n\\n\\r\\n        <p>Najwi\\xc4\\x99kszy serwis z tekstami piosenek w Polsce. Ka\\xc5\\xbcdy mo\\xc5\\xbce znale\\xc5\\xba\\xc4\\x87 u nas teksty piosenek, teledyski oraz t\\xc5\\x82umaczenia swoich ulubionych utwor\\xc3\\xb3w.<br /> Zach\\xc4\\x99camy wszystkich u\\xc5\\xbcytkownik\\xc3\\xb3w do dodawania nowych tekst\\xc3\\xb3w, t\\xc5\\x82umacze\\xc5\\x84 i teledysk\\xc3\\xb3w! </p>\\r\\n\\r\\n        <a href=\"/reklama.html\" class=\"bottom-links\" title=\"Reklama\">Reklama</a> |\\r\\n        <a href=\"/kontakt.html\" class=\"bottom-links\" title=\"Kontakt\">Kontakt</a> |\\r\\n        <a href=\"/faq.html\" class=\"bottom-links\" title=\"FAQ\">FAQ</a>\\r\\n    </div>\\r\\n</div>\\r\\n\\r\\n<div style=\"color: white; text-align: center; background-color: white; width: 982px; margin: 0pt auto;\"><span id=\"debug\"></span></div>\\r\\n\\r\\n<div class=\"fb-panel \">\\r\\n    <a href=\"#\" class=\"slide_button\"></a>\\r\\n    <div class=\"fb\"><fb:like-box href=\"https://www.facebook.com/tekstowo\" width=\"292\" height=\"258\" show_faces=\"true\" stream=\"false\" header=\"false\"></fb:like-box></div>\\r\\n</div>\\r\\n\\r\\n<div id=\"spinner\" style=\"display:none;\">\\r\\n    <div  class=\"spinner\">\\r\\n        <img id=\"img-spinner\" src=\"/static/images/spinner.gif\" alt=\"Trwa \\xc5\\x82adowanie...\"/>\\r\\n    </div>\\r\\n</div>\\r\\n\\r\\n<script type=\"text/javascript\">\\r\\n\\t\\t//<![CDATA[ \\r\\n\\t\\t\\r\\n\\t\\twindow.addEvent(\\'domready\\', function() {\\r\\n\\t\\t\\tif ($defined($(\\'debug\\')))\\r\\n\\t\\t\\t{\\r\\n\\t\\t\\t\\tvar info = Cookie.read(\\'debug\\');\\r\\n                                if (info != null)\\r\\n                                    $(\\'debug\\').innerHTML = decodeURIComponent(info.replace(/\\\\+/g, \\'%20\\'));\\r\\n\\t\\t\\t}\\r\\n\\t\\t });\\r\\n\\t\\t\\r\\n\\t\\t//]]>\\r\\n\\t</script>\\r\\n\\r\\n                                 \\r\\n    \\n\\n<script type=\"text/javascript\">\\n\\n  var _gaq = _gaq || [];\\n  _gaq.push([\\'_setAccount\\', \\'UA-261303-4\\']);\\n  _gaq.push([\\'_trackPageview\\']);\\n  _gaq.push([\\'_trackPageLoadTime\\']); \\n  \\n  (function() {\\n    var ga = document.createElement(\\'script\\'); ga.type = \\'text/javascript\\'; ga.async = true;\\n    ga.src = (\\'https:\\' == document.location.protocol ? \\'https://ssl\\' : \\'http://www\\') + \\'.google-analytics.com/ga.js\\';\\n    var s = document.getElementsByTagName(\\'script\\')[0]; s.parentNode.insertBefore(ga, s);\\n  })();\\n\\n</script>\\n\\n<!-- iBILLBOARD Ad Server one2many code -->\\n<!-- HowTo: All the ad codes must be above this code! -->\\n<!-- HowTo: It is good idea to place this code just below the last ad code. -->\\n<script type=\\'text/javascript\\' charset=\\'utf-8\\' src=\\'//go.goldbachpoland.bbelements.com/bb/bb_one2n.js\\'></script>\\n<script type=\\'text/javascript\\'>/* <![CDATA[ */ \\nbmone2n.addPosition(\\'1246.2.1.30\\',\\'\\');\\nbmone2n.getAd(\\'go.goldbachpoland.bbelements.com\\',\\'\\',\\'\\'+(typeof(bburlparam)==\\'string\\'?\\'&\\'+bburlparam:\\'\\'),\\'utf-8\\');\\n/* ]]> */</script>\\n<div id=\\'bmone2t-1246.2.1.30\\' style=\\'display:none\\'><script type=\\'text/javascript\\'>/* <![CDATA[ */ bmone2n.makeAd(\\'1246.2.1.30\\'); /* ]]> */</script></div>\\n<script type=\\'text/javascript\\'>/* <![CDATA[ */ bmone2n.moveAd(); /* ]]> */</script>\\n<!-- (C)2000-2014 Gemius SA - gemiusAudience / pp.tekstowo.pl / podstrony -->\\n<script type=\"text/javascript\">\\n<!--//--><![CDATA[//><!--\\nvar pp_gemius_identifier = \\'AkWQBOuT.xqAparYThSZKacTDmagsEOja26MkQBcg.j..7\\';\\n// lines below shouldn\\'t be edited\\nfunction gemius_pending(i) { window[i] = window[i] || function() {var x = window[i+\\'_pdata\\'] = window[i+\\'_pdata\\'] || []; x[x.length]=arguments;};};\\ngemius_pending(\\'gemius_hit\\'); gemius_pending(\\'gemius_event\\'); gemius_pending(\\'pp_gemius_hit\\'); gemius_pending(\\'pp_gemius_event\\');\\n(function(d,t) {try {var gt=d.createElement(t),s=d.getElementsByTagName(t)[0],l=\\'http\\'+((location.protocol==\\'https:\\')?\\'s\\':\\'\\'); gt.setAttribute(\\'async\\',\\'async\\');\\ngt.setAttribute(\\'defer\\',\\'defer\\'); gt.src=l+\\'://goldbach.hit.gemius.pl/xgemius.js\\'; s.parentNode.insertBefore(gt,s);} catch (e) {}})(document,\\'script\\');\\n//--><!]]>\\n</script>\\n\\n<div id=\"giercowniaAd1183\"></div>\\n\\t    <script>\\n\\t\\t(function() {\\n\\t\\t    var el = document.createElement(\\'script\\');\\n\\t\\t    el.type = \\'text/javascript\\';\\n\\t\\t    el.src = \\'//www.giercownia.pl/widget/gcad1183.loader.js\\';\\n\\t\\t    document.getElementsByTagName(\\'head\\')[0].appendChild(el);\\n\\t\\t})();\\n\\t    </script> \\n\\n\\n\\n\\n\\n\\n<div id=\"fb-root\"></div>\\r\\n</body>\\r\\n</html>'"
      ]
     },
     "execution_count": 9,
     "metadata": {},
     "output_type": "execute_result"
    }
   ],
   "source": [
    "r.text"
   ]
  },
  {
   "cell_type": "code",
   "execution_count": 6,
   "metadata": {},
   "outputs": [
    {
     "data": {
      "text/plain": [
       "{'last': {'rel': 'last', 'url': 'https://api.github.com/events?page=10'},\n",
       " 'next': {'rel': 'next', 'url': 'https://api.github.com/events?page=2'}}"
      ]
     },
     "execution_count": 6,
     "metadata": {},
     "output_type": "execute_result"
    }
   ],
   "source": [
    "r.links"
   ]
  },
  {
   "cell_type": "code",
   "execution_count": null,
   "metadata": {
    "collapsed": true
   },
   "outputs": [],
   "source": []
  }
 ],
 "metadata": {
  "kernelspec": {
   "display_name": "Python [conda root]",
   "language": "python",
   "name": "conda-root-py"
  },
  "language_info": {
   "codemirror_mode": {
    "name": "ipython",
    "version": 2
   },
   "file_extension": ".py",
   "mimetype": "text/x-python",
   "name": "python",
   "nbconvert_exporter": "python",
   "pygments_lexer": "ipython2",
   "version": "2.7.13"
  }
 },
 "nbformat": 4,
 "nbformat_minor": 2
}
