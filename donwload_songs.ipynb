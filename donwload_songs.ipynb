{
 "cells": [
  {
   "cell_type": "code",
   "execution_count": 1,
   "metadata": {},
   "outputs": [
    {
     "name": "stdout",
     "output_type": "stream",
     "text": [
      "Automatic calling is: Smart\n"
     ]
    }
   ],
   "source": [
    "%autocall 1\n",
    "import requests\n",
    "import re\n",
    "\n",
    "ADRES = \"https://www.tekstowo.pl\"\n",
    "EMPTY_STRING_LENGTH = 6\n",
    "error = \"\""
   ]
  },
  {
   "cell_type": "code",
   "execution_count": 2,
   "metadata": {
    "collapsed": true
   },
   "outputs": [],
   "source": [
    "def extract_song_url_from_line(line):\n",
    "    return re.findall(\"piosenka.+html\", line)[0]\n",
    "\n",
    "def find_all_subpages(html_source):\n",
    "    return [re.findall(\"/piosenki_artysty.+html\",line)[0] \n",
    "            for line in html_source \n",
    "            if 'alfabetycznie' in line and 'strona' in line]\n",
    "\n",
    "def get_songs_urls(artists):\n",
    "    artist_songs = {}\n",
    "    for artist in artists:\n",
    "        artist_url = \"https://www.tekstowo.pl/piosenki_artysty,\"+artist+\".html\"\n",
    "        r = requests.get(artist_url).text.split('\\n')\n",
    "        \n",
    "        subpages = set(find_all_subpages(r))\n",
    "        \n",
    "        songs_urls=set()\n",
    "        for subpage in subpages:\n",
    "            r = requests.get(ADRES+subpage)\n",
    "            not_yet = True\n",
    "            for line in r.text.split('\\n'):\n",
    "                if not_yet and 'przeboje' not in line:\n",
    "                    continue\n",
    "                not_yet=False\n",
    "                if 'html' in line and artist in line.lower() and 'piosenka' in line:\n",
    "                        songs_urls.add(ADRES + '/' + extract_song_url_from_line(line.strip()))\n",
    "        \n",
    "        artist_songs[artist]=songs_urls\n",
    "    return artist_songs               "
   ]
  },
  {
   "cell_type": "code",
   "execution_count": null,
   "metadata": {
    "collapsed": true
   },
   "outputs": [],
   "source": [
    "get_songs_urls(['enej', 'lzy'])"
   ]
  },
  {
   "cell_type": "code",
   "execution_count": 12,
   "metadata": {
    "collapsed": true
   },
   "outputs": [],
   "source": [
    "def extract_lyrics(urls):\n",
    "    polisher = lambda x: x.encode('iso-8859-1').decode('utf-8')\n",
    "    \n",
    "    songs = []\n",
    "#     urls=['http://www.tekstowo.pl/piosenka,Lzy,zdjecia_z_wakacji.html',\n",
    "#           'http://www.tekstowo.pl/piosenka,enej,hey.html']\n",
    "    for url in urls:\n",
    "        print url\n",
    "        html_source = requests.get(url).text\n",
    "        not_yet = True\n",
    "        no_more = False\n",
    "        lyrics = []\n",
    "        for line in html_source.split('\\n'):\n",
    "            if 'song-text' in line:\n",
    "                not_yet = False\n",
    "            if not not_yet and 'javascript' in line:\n",
    "                no_more = True\n",
    "            if not not_yet and not no_more and len(line)>EMPTY_STRING_LENGTH:\n",
    "#                 print line\n",
    "#                 i = 29\n",
    "#                 print \"1sza czesc\", polisher(line.replace('<br />', '').strip()[:i]), line.replace('<br />', '').strip()[:i]\n",
    "#                 print \"2ga czesc\", polisher(line.replace('<br />', '').strip()[i:]), line.replace('<br />', '').strip()[i:]\n",
    "                try :\n",
    "#                     print line.__repr__()\n",
    "                    lyrics.append(polisher(line.strip()).replace('<br />', ''))\n",
    "                except UnicodeDecodeError:\n",
    "                    print line, line.__repr__()\n",
    "        songs.append('\\n'.join(lyrics[3:-2]))\n",
    "    return songs\n",
    "    \n",
    "# e = extract_lyrics(get_songs_urls(['enej', 'lzy'])['enej'])    \n",
    "# extract_lyrics(['http://www.tekstowo.pl/piosenka,enej,nie_chce_spac.html'])\n",
    "# 'http://www.tekstowo.pl/piosenka,enej,zagubiony.html',"
   ]
  },
  {
   "cell_type": "code",
   "execution_count": null,
   "metadata": {},
   "outputs": [
    {
     "name": "stdout",
     "output_type": "stream",
     "text": [
      "https://www.tekstowo.pl/piosenka,enej,hej__fonetycznie_.html\n",
      "https://www.tekstowo.pl/piosenka,enej,lita_orel.html\n",
      "https://www.tekstowo.pl/piosenka,enej,co_dzis_dal_los_.html\n",
      "https://www.tekstowo.pl/piosenka,enej,skrzypi_woz.html\n",
      "https://www.tekstowo.pl/piosenka,enej,oj_pishov_ja_w_dunay.html\n",
      "https://www.tekstowo.pl/piosenka,enej,radio.html\n",
      "https://www.tekstowo.pl/piosenka,enej,melancholia.html\n",
      "https://www.tekstowo.pl/piosenka,enej,nie_chce_spac.html\n",
      "https://www.tekstowo.pl/piosenka,enej,hey.html\n",
      "https://www.tekstowo.pl/piosenka,enej,pragnienie.html\n",
      "https://www.tekstowo.pl/piosenka,enej,zyje_sie_raz.html\n",
      "https://www.tekstowo.pl/piosenka,enej,ulice.html\n",
      "https://www.tekstowo.pl/piosenka,enej,lili.html\n",
      "https://www.tekstowo.pl/piosenka,enej,myla_moja__fonetyczny_.html\n",
      "https://www.tekstowo.pl/piosenka,enej,daleki_jasni_zori.html\n",
      "https://www.tekstowo.pl/piosenka,enej,coppernicana.html\n",
      "https://www.tekstowo.pl/piosenka,enej,taki_kraj.html\n",
      "https://www.tekstowo.pl/piosenka,enej,interludium_lemko.html\n",
      "https://www.tekstowo.pl/piosenka,enej,bilia_topoli.html\n",
      "https://www.tekstowo.pl/piosenka,enej,a_wczora_z_wieczora.html\n",
      "https://www.tekstowo.pl/piosenka,enej,skrzydlate_rece.html\n",
      "https://www.tekstowo.pl/piosenka,enej,moja_mery_lu.html\n",
      "https://www.tekstowo.pl/piosenka,enej,amelia.html\n",
      "https://www.tekstowo.pl/piosenka,enej,pan_babilon.html\n",
      "https://www.tekstowo.pl/piosenka,enej,niepewnosc.html\n",
      "https://www.tekstowo.pl/piosenka,enej,komu.html\n",
      "https://www.tekstowo.pl/piosenka,enej,sam_na_sam.html\n",
      "https://www.tekstowo.pl/piosenka,enej,nese_hala_wodu.html\n",
      "https://www.tekstowo.pl/piosenka,enej,odpusc_sobie_to.html\n",
      "https://www.tekstowo.pl/piosenka,enej,united__feat_wozzo__tomson.html\n",
      "https://www.tekstowo.pl/piosenka,enej,noc.html\n",
      "https://www.tekstowo.pl/piosenka,enej,panstwo_b.html\n",
      "https://www.tekstowo.pl/piosenka,enej,zagubiony.html\n",
      "https://www.tekstowo.pl/piosenka,enej,symetryczno_liryczna.html\n",
      "https://www.tekstowo.pl/piosenka,enej,wodka.html\n",
      "https://www.tekstowo.pl/piosenka,enej,myla_moja.html\n",
      "https://www.tekstowo.pl/piosenka,enej,moze_bedzie_lepiej.html\n",
      "https://www.tekstowo.pl/piosenka,enej,hermetyczny_swiat.html\n",
      "https://www.tekstowo.pl/piosenka,enej,rahela.html\n",
      "https://www.tekstowo.pl/piosenka,enej,bozevilni_sny.html\n",
      "https://www.tekstowo.pl/piosenka,enej,z_trojandoju.html\n",
      "https://www.tekstowo.pl/piosenka,enej,scirocco.html\n",
      "https://www.tekstowo.pl/piosenka,enej,mow_mi_dobrze.html\n",
      "https://www.tekstowo.pl/piosenka,enej,woda_zyciodajna.html\n",
      "https://www.tekstowo.pl/piosenka,enej,radio_hello.html\n",
      "https://www.tekstowo.pl/piosenka,enej,siliozy_kamiani.html\n",
      "https://www.tekstowo.pl/piosenka,enej,wychowala_nas_ulica.html\n",
      "https://www.tekstowo.pl/piosenka,enej,dzisiaj_bede_ja.html\n",
      "https://www.tekstowo.pl/piosenka,enej,vitre_hnatyi.html\n",
      "https://www.tekstowo.pl/piosenka,enej,taki_i_treba.html\n",
      "https://www.tekstowo.pl/piosenka,enej,powiedz.html\n",
      "https://www.tekstowo.pl/piosenka,enej,moja_eneida.html\n",
      "https://www.tekstowo.pl/piosenka,enej,paparanoja.html\n",
      "https://www.tekstowo.pl/piosenka,enej,tak_smakuje_zycie.html\n",
      "https://www.tekstowo.pl/piosenka,enej,przepraszam_cie_za_wszystko.html\n",
      "https://www.tekstowo.pl/piosenka,enej,trunek.html\n",
      "https://www.tekstowo.pl/piosenka,enej,kuba_gang.html\n",
      "https://www.tekstowo.pl/piosenka,enej,radio_hello__ukrainski_.html\n",
      "https://www.tekstowo.pl/piosenka,enej,wioska.html\n",
      "https://www.tekstowo.pl/piosenka,enej,odrobina_czasu.html\n",
      "https://www.tekstowo.pl/piosenka,enej,radio_hello_fonetyczny_.html\n",
      "https://www.tekstowo.pl/piosenka,enej,ballada_o_pewnej_podrozy.html\n",
      "https://www.tekstowo.pl/piosenka,enej,mnohaja_lita.html\n",
      "https://www.tekstowo.pl/piosenka,enej,siedmiomilowa_szansa.html\n",
      "https://www.tekstowo.pl/piosenka,enej,kamien_z_napisem_love_1.html\n",
      "https://www.tekstowo.pl/piosenka,enej,hory_moi.html\n",
      "https://www.tekstowo.pl/piosenka,enej,ludzie_wolnej_ziemi.html\n",
      "https://www.tekstowo.pl/piosenka,enej,dobryj_weczir_tobi.html\n",
      "https://www.tekstowo.pl/piosenka,enej,cykady_na_cykladach.html\n",
      "https://www.tekstowo.pl/piosenka,enej,zyj.html\n",
      "https://www.tekstowo.pl/piosenka,enej,kortowiada.html\n",
      "https://www.tekstowo.pl/piosenka,enej,wszystko_takie_proste.html\n",
      "https://www.tekstowo.pl/piosenka,enej,zbudujemy_dom.html\n",
      "https://www.tekstowo.pl/piosenka,enej,przeznaczenie.html\n",
      "https://www.tekstowo.pl/piosenka,enej,czarny_ali_baba.html\n",
      "https://www.tekstowo.pl/piosenka,Lzy,jestes_powietrzem.html\n",
      "https://www.tekstowo.pl/piosenka,Lzy,ta_cz__zaprosil_cie_na_bal.html\n",
      "https://www.tekstowo.pl/piosenka,Lzy,historia_z_ksiazki_mej.html\n",
      "https://www.tekstowo.pl/piosenka,Lzy,w_ksiezycowym_snie.html\n",
      "https://www.tekstowo.pl/piosenka,Lzy,kiedy_nie_ma_w_nas_milosci.html\n",
      "https://www.tekstowo.pl/piosenka,Lzy,polnoc.html\n",
      "https://www.tekstowo.pl/piosenka,Lzy,jesli_jeszcze_wierzysz_w_milosc_1.html\n",
      "https://www.tekstowo.pl/piosenka,Lzy,w_tym_znaku_zapytania.html\n",
      "https://www.tekstowo.pl/piosenka,Lzy,najdrozsze_kwiaty.html\n",
      "https://www.tekstowo.pl/piosenka,Lzy,bo_kazdej_nocy.html\n",
      "https://www.tekstowo.pl/piosenka,Lzy,cala_soba.html\n",
      "https://www.tekstowo.pl/piosenka,Lzy,gdy_na_was_patrze.html\n",
      "https://www.tekstowo.pl/piosenka,Lzy,westchnienia_i_szepty_bezwstydne.html\n",
      "https://www.tekstowo.pl/piosenka,Lzy,zanim_swiat_nas_rozdzieli.html\n",
      "https://www.tekstowo.pl/piosenka,Lzy,nie_lubie_nikogo.html\n",
      "https://www.tekstowo.pl/piosenka,Lzy,pamietaj_o_mnie.html\n",
      "https://www.tekstowo.pl/piosenka,Lzy,7_stop_pod_ziemia.html\n",
      "https://www.tekstowo.pl/piosenka,Lzy,chod__wszyscy_zaplacza__to_nic_sie_nie_zmieni.html\n",
      "https://www.tekstowo.pl/piosenka,Lzy,zdjecia_z_wakacji.html\n",
      "https://www.tekstowo.pl/piosenka,Lzy,dla_milosci_warto.html\n",
      "https://www.tekstowo.pl/piosenka,Lzy,jestem_taka_jestem.html\n",
      "https://www.tekstowo.pl/piosenka,Lzy,ty_na_zawsze.html\n",
      "https://www.tekstowo.pl/piosenka,Lzy,zatancz_ze_mna__prosze.html\n",
      "https://www.tekstowo.pl/piosenka,Lzy,modlitwa.html\n",
      "https://www.tekstowo.pl/piosenka,Lzy,jestem_jaka_jestem.html\n",
      "https://www.tekstowo.pl/piosenka,Lzy,slodkie_winogrona.html\n",
      "https://www.tekstowo.pl/piosenka,Lzy,niebieska_sukienka.html\n",
      "https://www.tekstowo.pl/piosenka,Lzy,szczescia_smak.html\n",
      "https://www.tekstowo.pl/piosenka,Lzy,chcialabym.html\n",
      "https://www.tekstowo.pl/piosenka,Lzy,imagine.html\n",
      "https://www.tekstowo.pl/piosenka,Lzy,slo_ce_dla_ciebie.html\n",
      "https://www.tekstowo.pl/piosenka,Lzy,czasami__ot_tak.html\n",
      "https://www.tekstowo.pl/piosenka,Lzy,jestes_jak_ona.html\n",
      "https://www.tekstowo.pl/piosenka,Lzy,julia_tak_na_imie_mam.html\n",
      "https://www.tekstowo.pl/piosenka,Lzy,opowiem_wam_moja_historie.html\n",
      "https://www.tekstowo.pl/piosenka,Lzy,lukrecja.html\n",
      "https://www.tekstowo.pl/piosenka,Lzy,jestem_dilerem.html\n",
      "https://www.tekstowo.pl/piosenka,Lzy,moje_szczescie_z_toba.html\n",
      "https://www.tekstowo.pl/piosenka,Lzy,pierwsza_lza.html\n",
      "https://www.tekstowo.pl/piosenka,Lzy,valerie.html\n",
      "https://www.tekstowo.pl/piosenka,Lzy,uciekajac_przed_m.html\n",
      "https://www.tekstowo.pl/piosenka,Lzy,emmanuelle_noire.html\n",
      "https://www.tekstowo.pl/piosenka,Lzy,gdybys_byl.html\n",
      "https://www.tekstowo.pl/piosenka,Lzy,ja_samotna.html\n",
      "https://www.tekstowo.pl/piosenka,Lzy,twoje_serce.html\n",
      "https://www.tekstowo.pl/piosenka,Lzy,oczy_szeroko_zamkniete.html\n",
      "https://www.tekstowo.pl/piosenka,Lzy,w_moim_snie.html\n",
      "https://www.tekstowo.pl/piosenka,Lzy,nie_wiem__nie_wiem.html\n",
      "https://www.tekstowo.pl/piosenka,Lzy,Lzy_szczescia.html\n",
      "https://www.tekstowo.pl/piosenka,Lzy,poki_smierc_nas_nie_rozlaczy.html\n",
      "https://www.tekstowo.pl/piosenka,Lzy,nocami_i_dniami_a_teraz_czasami.html\n",
      "https://www.tekstowo.pl/piosenka,Lzy,wrocilam.html\n"
     ]
    }
   ],
   "source": [
    "def download_lyrics(artists):\n",
    "    song_book = {}\n",
    "    for artist in artists:\n",
    "        song_book[artist] = extract_lyrics(get_songs_urls([artist,])[artist])\n",
    "    return song_book\n",
    "\n",
    "ss = download_lyrics(['enej', 'lzy'])"
   ]
  },
  {
   "cell_type": "code",
   "execution_count": 14,
   "metadata": {},
   "outputs": [
    {
     "name": "stdout",
     "output_type": "stream",
     "text": [
      "https://www.tekstowo.pl/piosenka,Lzy,pamietaj_o_mnie.html\n",
      "https://www.tekstowo.pl/piosenka,Lzy,7_stop_pod_ziemia.html\n"
     ]
    },
    {
     "data": {
      "text/plain": [
       "[u'Mieszka\\u0142 on i ona, w szemranej dzielnicy.\\nMia\\u0142a oczy b\\u0142\\u0119kitne, sk\\xf3r\\u0119 s\\u0142o\\u0144cem spalon\\u0105.\\nBy\\u0142a wszystkim dla niego, pi\\u0119kn\\u0105, wiern\\u0105 \\u017con\\u0105.\\nPami\\u0119taj o mnie, gdy mnie ju\\u017c nie b\\u0119dzie.\\nB\\u0119d\\u0119 t\\u0119skni\\u0107 za tob\\u0105, b\\u0119d\\u0119 trzyma\\u0107 ci\\u0119 za r\\u0119k\\u0119.\\nWi\\u0119c pami\\u0119taj o mnie, bo gdy usta zamilkn\\u0105\\nb\\u0119d\\u0119 t\\u0119skni\\u0107 za tob\\u0105, a ty m\\xf3w do mnie szeptem.\\nWeszli tylnymi drzwiami, r\\u0119ce jej skr\\u0119powali.\\nNikt nie s\\u0142ysza\\u0142 jej p\\u0142aczu, nikt nie otar\\u0142 jej \\u0142ez.\\nTylko on si\\u0119 odwa\\u017cy\\u0142, cz\\u0142owiek z blizn\\u0105 na twarzy.\\nWielki n\\xf3\\u017c prosto w serce wbi\\u0142 niewinnej dziewczynie.\\nPami\\u0119taj o mnie, gdy mnie ju\\u017c nie b\\u0119dzie.\\nB\\u0119d\\u0119 t\\u0119skni\\u0107 za tob\\u0105, b\\u0119d\\u0119 trzyma\\u0107 ci\\u0119 za r\\u0119k\\u0119.\\nWi\\u0119c pami\\u0119taj o mnie, bo gdy usta zamilkn\\u0105\\nb\\u0119d\\u0119 t\\u0119skni\\u0107 za tob\\u0105, a ty m\\xf3w do mnie szeptem.\\nJestem tu dzi\\u015b, aby otrze\\u0107 twoje \\u0142zy, a ty...\\nPami\\u0119taj o mnie, gdy mnie ju\\u017c nie b\\u0119dzie.\\nB\\u0119d\\u0119 t\\u0119skni\\u0107 za tob\\u0105, b\\u0119d\\u0119 trzyma\\u0107 ci\\u0119 za r\\u0119k\\u0119.\\nWi\\u0119c pami\\u0119taj o mnie, bo gdy usta zamilkn\\u0105',\n",
       " u'Wystarczy\\u0142o mi powiedzie\\u0107 - nie.\\nWystarczy\\u0142o powiedzie\\u0107, \\u017ce nie b\\u0119dziesz m\\xf3j!\\nNie musia\\u0142o wcale tak to sko\\u0144czy\\u0107 si\\u0119!\\n\\nWi\\u0119c przykrywam ci\\u0119, kochanie do snu\\nZimn\\u0105 pierzyn\\u0105 z ziemi oraz mchu!\\n\\nA teraz le\\u017cysz jakie\\u015b siedem st\\xf3p pod ziemi\\u0105,\\nz gasn\\u0105c\\u0105 na niemo\\u017cliwy cud nadziej\\u0105!\\nA teraz le\\u017cysz jakie\\u015b siedem st\\xf3p pod ziemi\\u0105,\\nz gasn\\u0105c\\u0105 na niemo\\u017cliwy cud nadziej\\u0105!\\nA teraz le\\u017cysz jakie\\u015b siedem st\\xf3p pod ziemi\\u0105,\\nz gasn\\u0105c\\u0105 na niemo\\u017cliwy cud nadziej\\u0105!\\nA teraz le\\u017cysz jakie\\u015b siedem st\\xf3p pod ziemi\\u0105,\\nz gasn\\u0105c\\u0105 na niemo\\u017cliwy cud nadziej\\u0105!\\n\\nNie musia\\u0142e\\u015b podnosi\\u0107 na mnie r\\u0119ki,\\nWystarczy\\u0142o mi powiedzie\\u0107 - nie,\\nNie musia\\u0142e\\u015b wcale mnie tak nazywa\\u0107,\\nNie musia\\u0142o tak to sko\\u0144czy\\u0107 si\\u0119!\\n\\nA teraz le\\u017cysz jakie\\u015b siedem st\\xf3p pod ziemi\\u0105,\\nz gasn\\u0105c\\u0105 na niemo\\u017cliwy cud nadziej\\u0105!\\nA teraz le\\u017cysz jakie\\u015b siedem st\\xf3p pod ziemi\\u0105,\\nz gasn\\u0105c\\u0105 na niemo\\u017cliwy cud nadziej\\u0105!\\n\\nA teraz le\\u017cysz jakie\\u015b siedem st\\xf3p pod ziemi\\u0105,\\nz gasn\\u0105c\\u0105 na niemo\\u017cliwy cud nadziej\\u0105!\\nA teraz le\\u017cysz jakie\\u015b siedem st\\xf3p pod ziemi\\u0105,']"
      ]
     },
     "execution_count": 14,
     "metadata": {},
     "output_type": "execute_result"
    }
   ],
   "source": [
    "htmls = ['https://www.tekstowo.pl/piosenka,Lzy,pamietaj_o_mnie.html', 'https://www.tekstowo.pl/piosenka,Lzy,7_stop_pod_ziemia.html']\n",
    "extract_lyrics(htmls)"
   ]
  },
  {
   "cell_type": "code",
   "execution_count": null,
   "metadata": {
    "collapsed": true
   },
   "outputs": [],
   "source": [
    "print(dir(requests))"
   ]
  }
 ],
 "metadata": {
  "kernelspec": {
   "display_name": "Python [conda root]",
   "language": "python",
   "name": "conda-root-py"
  },
  "language_info": {
   "codemirror_mode": {
    "name": "ipython",
    "version": 2
   },
   "file_extension": ".py",
   "mimetype": "text/x-python",
   "name": "python",
   "nbconvert_exporter": "python",
   "pygments_lexer": "ipython2",
   "version": "2.7.13"
  }
 },
 "nbformat": 4,
 "nbformat_minor": 2
}
